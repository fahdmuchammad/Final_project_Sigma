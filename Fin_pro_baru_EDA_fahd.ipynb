{
 "cells": [
  {
   "cell_type": "markdown",
   "metadata": {},
   "source": [
    "# Brazillian Ecommerce, Olist Dataset"
   ]
  },
  {
   "cell_type": "markdown",
   "metadata": {},
   "source": [
    "test markdown"
   ]
  },
  {
   "cell_type": "markdown",
   "metadata": {},
   "source": [
    "## Context\n",
    "This is a Brazilian ecommerce public dataset of orders made at Olist Store.  The dataset has information of 100k orders from 2016 to 2018 made at multiple marketplaces in Brazil. Its features allow viewing an order from multiple dimensions: from order status, price, payment and freight performance to customer location, product attributes and finally reviews written by customers. They also released a geolocation dataset that relates Brazilian zip codes to lat/lng coordinates.\n",
    "\n",
    "\n",
    "This is real commercial data, it has been anonymised, and references to the companies and partners in the review text have been replaced with the names of Game of Thrones great houses.\n",
    "\n",
    "Olist connects small businesses from all over Brazil to channels without hassle and with a single contract. Those merchants are able to sell their products through the Olist Store and ship them directly to the customers using Olist logistics partners. See more on our website: www.olist.com\n",
    "\n",
    "After a customer purchases the product from Olist Store a seller gets notified to fulfill that order. Once the customer receives the product, or the estimated delivery date is due, the customer gets a satisfaction survey by email where he can give a note for the purchase experience and write down some comments.\n",
    "\n",
    "*Notes*\n",
    "\n",
    "1. An order might have multiple items.\n",
    "2. Each item might be fulfilled by a distinct seller.\n",
    "3. All text identifying stores and partners where replaced by the names of Game of Thrones great houses.\n",
    "\n",
    "## Features\n",
    "\n",
    "The dataset contains a variety of features from different aspects of the transactions within the marketplace, including customer information, product details, payment methods, and review scores. Here’s a list of the key columns available in the dataset:\n",
    "\n",
    "* `customer_id`: Unique identifier for each customer.\n",
    "* `customer_unique_id`: A secondary identifier for customers that allows you to identify customers who made repurchases at the store.\n",
    "* `customer_zip_code_prefix`: Zip code prefix for the customer’s location.\n",
    "* `customer_city`: City where the customer is located.\n",
    "* `customer_state`: State where the customer is located.\n",
    "* `order_id`: Unique identifier for each order placed by the customer.\n",
    "* `order_status`: The current status of the order (e.g., shipped, delivered, cancelled).\n",
    "* `order_purchase_timestamp`: Timestamp when the order was placed.\n",
    "* `order_approved_at`: Timestamp when the order was approved.\n",
    "* `order_delivered_carrier_date`: Date when the order was delivered to the carrier.\n",
    "* `order_delivered_customer_date`: Date when the order was delivered to the customer.\n",
    "* `order_estimated_delivery_date`: Estimated date for the order to be delivered to the customer.\n",
    "* `review_id`: Unique identifier for each review provided by the customer.\n",
    "* `review_score`: Rating score (1 to 5) provided by the customer for the product.\n",
    "* `review_comment_title`: Title of the product review.\n",
    "* `review_comment_message`: Content or message provided in the product review.\n",
    "* `review_creation_date`: Date when the review was created.\n",
    "* `review_answer_timestamp`: Timestamp when the review was answered (if applicable).\n",
    "* `order_item_id`: Unique identifier for the item in the order.\n",
    "* `product_id`: Unique identifier for the product ordered.\n",
    "* `seller_id`: Unique identifier for the seller.\n",
    "* `shipping_limit_date`: The last date for shipping the order.\n",
    "* `price`: Price of the product in the order.\n",
    "* `freight_value`: Shipping cost for the order.\n",
    "* `payment_sequential`: Sequential number for installment payments in the order.\n",
    "* `payment_type`: Type of payment used by the customer (e.g., credit card, boleto).\n",
    "* `payment_installments`: Number of installments used in the payment.\n",
    "* `payment_value`: Total value of the payment made by the customer.\n",
    "* `product_category_name`: Category of the product purchased.\n",
    "* `product_name_length`: Length of the product name (in characters).\n",
    "* `product_description_length`: Length of the product description (in characters).\n",
    "* `product_photos_qty`: Quantity of photos available for the product.\n",
    "* `product_weight_g`: Weight of the product in grams.\n",
    "* `product_length_cm`: Length of the product in centimeters.\n",
    "* `product_height_cm`: Height of the product in centimeters.\n",
    "* `product_width_cm`: Width of the product in centimeters.\n",
    "* `seller_zip_code_prefix`: Zip code prefix of the seller's location.\n",
    "* `seller_city`: City where the seller is located.\n",
    "* `seller_state`: State where the seller is located.\n",
    "* `geolocation_zip_code_prefix`: Zip code prefix for the seller's geolocation.\n",
    "* `geolocation_lat`: Latitude of the seller's location.\n",
    "* `geolocation_lng`: Longitude of the seller's location.\n",
    "* `geolocation_city`: City where the seller's geolocation is located.\n",
    "* `geolocation_state`: State where the seller's geolocation is located.\n",
    "* `product_category_name_english`: English translation of the product category name.***\n",
    "\n",
    "![Image!](diagram.png)\n",
    "\n",
    "\n",
    "## Acknowledgments\n",
    "Thanks to Olist for releasing this dataset.\n",
    "\n",
    "## Contents\n",
    "1. Business Problem Understanding\n",
    "2. Data Understanding\n",
    "3. Data Preprocessing\n",
    "4. Modeling\n",
    "5. Conclusion\n",
    "6. Recommendation"
   ]
  },
  {
   "cell_type": "markdown",
   "metadata": {},
   "source": [
    "# 1. Business Problem Understanding\n",
    "\n",
    "**Context**\n",
    "\n",
    "This dataset contains transactional data from the Olist marketplace, an e-commerce platform in Brazil. It includes a variety of features related to customer behavior, product information, order details, payment methods, shipping costs, and review scores. The dataset provides valuable insights into online purchases, customer satisfaction, and product performance, making it an excellent resource for understanding e-commerce dynamics.\n",
    "\n",
    "**Background**\n",
    "\n",
    "- Better Understanding of Customer Needs -> penempatan penyebaran produk (gudang/seller)\n",
    "- Improved Targeting and Efficient Resource Allocation -> promosi tepat sasaran\n",
    "- Personalized Marketing -> crm (customer relationship marketing)\n",
    "\n",
    "**Problem Statement**\n",
    "\n",
    "Customer satisfaction is a critical factor in the success of any e-commerce business. Unsatisfied customers are less likely to return, leading to reduced customer retention and revenue. Predicting whether a customer will leave a positive or negative review based on their order details and interactions can help businesses proactively address issues, improve customer experience, and increase retention.\n",
    "=> Bagaimana perilaku customer di tiap segmentasi untuk membuat marketing yang lebih terpersonalisasi dan tepat sasaran.\n",
    "\n",
    "**Goals**\n",
    "\n",
    "The goal of this project is to predict customer satisfaction, as measured by the review_score, using features such as order details, product characteristics, payment methods, and customer demographics. By analyzing these features, we aim to:\n",
    "\n",
    "* Predict whether a customer will leave a positive (review_score ≥ 4) or negative (review_score < 4) review.\n",
    "\n",
    "* Identify key factors that influence customer satisfaction.\n",
    "\n",
    "* Provide actionable insights to improve customer experience and reduce negative reviews.\n",
    "\n",
    "**Stakeholders**\n",
    "\n",
    "* Business Owners and Managers: They want to improve customer satisfaction and retention to drive long-term revenue growth.\n",
    "\n",
    "* Customer Support Teams: They need insights to address customer complaints and improve service quality.\n",
    "\n",
    "* Product Managers: They want to understand how product characteristics (e.g., category, photos, description) impact customer satisfaction.\n",
    "\n",
    "* Marketing Teams: They aim to target dissatisfied customers with personalized offers or campaigns to improve their experience.\n",
    "\n",
    "* Data Science Team: Responsible for developing and deploying the predictive model to classify customer satisfaction.\n",
    "\n",
    "**Analytical Approach**\n",
    "\n",
    "We will begin by exploring the dataset to understand the relationship between customer satisfaction (review_score) and features such as order details, product characteristics, payment methods, and customer demographics. Next, we will preprocess the data by handling missing values, encoding categorical variables, and creating new features (e.g., delivery time, order processing time). Once the data is cleaned, we will build a binary classification model to predict whether a customer will leave a positive or negative review. The model will help businesses identify dissatisfied customers and take proactive measures to improve their experience.\n",
    "\n",
    "**Business Metrics**\n",
    "\n",
    "The success of this project will be measured by the following metrics:\n",
    "\n",
    "* Customer Satisfaction Rate: Percentage of customers who leave positive reviews (review_score ≥ 4).\n",
    "\n",
    "* Negative Review Reduction Rate: Reduction in the percentage of negative reviews over time.\n",
    "\n",
    "* Customer Retention Rate: Percentage of customers who make repeat purchases after receiving targeted interventions.\n",
    "\n",
    "* Model Accuracy: The ability of the model to correctly classify positive and negative reviews.\n",
    "\n",
    "**Metric Evaluation**\n",
    "\n",
    "The evaluation metrics for this project include:\n",
    "\n",
    "* Accuracy: Measures the percentage of correct predictions in the classification model.\n",
    "\n",
    "* Precision and Recall: Precision measures the percentage of correctly predicted positive reviews, while recall measures the percentage of actual positive reviews correctly identified.\n",
    "\n",
    "* F1-Score: Harmonic mean of precision and recall, useful for imbalanced datasets.\n",
    "\n",
    "* AUC-ROC (Area Under the Curve - Receiver Operating Characteristics): Evaluates the model's ability to distinguish between positive and negative reviews.\n",
    "\n",
    "By focusing on these goals and metrics, this project aims to provide actionable insights that can help businesses improve customer satisfaction, reduce negative reviews, and increase customer retention.\n"
   ]
  },
  {
   "cell_type": "code",
   "execution_count": 1,
   "metadata": {},
   "outputs": [],
   "source": [
    "import pandas as pd"
   ]
  },
  {
   "cell_type": "code",
   "execution_count": 2,
   "metadata": {},
   "outputs": [],
   "source": [
    "# Load dataset\n",
    "\n",
    "customers_df = pd.read_csv('olist_customers_dataset.csv')\n",
    "items_df = pd.read_csv('olist_order_items_dataset.csv')\n",
    "payments_df = pd.read_csv('olist_order_payments_dataset.csv')\n",
    "reviews_df = pd.read_csv('olist_order_reviews_dataset.csv')\n",
    "orders_df = pd.read_csv('olist_orders_dataset.csv')\n",
    "products_df = pd.read_csv('olist_products_dataset.csv')\n",
    "sellers_df = pd.read_csv('olist_sellers_dataset.csv')\n",
    "category_translation_df = pd.read_csv('product_category_name_translation.csv')\n",
    "geolocation_df = pd.read_csv('olist_geolocation_dataset.csv')"
   ]
  },
  {
   "cell_type": "markdown",
   "metadata": {},
   "source": [
    "### Merge geolocation customer"
   ]
  },
  {
   "cell_type": "code",
   "execution_count": 3,
   "metadata": {},
   "outputs": [
    {
     "name": "stdout",
     "output_type": "stream",
     "text": [
      "<class 'pandas.core.frame.DataFrame'>\n",
      "RangeIndex: 1000163 entries, 0 to 1000162\n",
      "Data columns (total 5 columns):\n",
      " #   Column                       Non-Null Count    Dtype  \n",
      "---  ------                       --------------    -----  \n",
      " 0   geolocation_zip_code_prefix  1000163 non-null  int64  \n",
      " 1   geolocation_lat              1000163 non-null  float64\n",
      " 2   geolocation_lng              1000163 non-null  float64\n",
      " 3   geolocation_city             1000163 non-null  object \n",
      " 4   geolocation_state            1000163 non-null  object \n",
      "dtypes: float64(2), int64(1), object(2)\n",
      "memory usage: 38.2+ MB\n"
     ]
    }
   ],
   "source": [
    "geolocation_df.info()"
   ]
  },
  {
   "cell_type": "code",
   "execution_count": 4,
   "metadata": {},
   "outputs": [
    {
     "data": {
      "text/plain": [
       "geolocation_zip_code_prefix\n",
       "24220    1146\n",
       "24230    1102\n",
       "38400     965\n",
       "35500     907\n",
       "11680     879\n",
       "         ... \n",
       "71750       1\n",
       "71742       1\n",
       "26475       1\n",
       "26357       1\n",
       "29826       1\n",
       "Name: count, Length: 19015, dtype: int64"
      ]
     },
     "execution_count": 4,
     "metadata": {},
     "output_type": "execute_result"
    }
   ],
   "source": [
    "geolocation_df.geolocation_zip_code_prefix.value_counts()"
   ]
  },
  {
   "cell_type": "code",
   "execution_count": 5,
   "metadata": {},
   "outputs": [],
   "source": [
    "customer_mode = customers_df.rename(columns={\"customer_zip_code_prefix\": \"geolocation_zip_code_prefix\"})"
   ]
  },
  {
   "cell_type": "code",
   "execution_count": 6,
   "metadata": {},
   "outputs": [
    {
     "data": {
      "text/plain": [
       "99441"
      ]
     },
     "execution_count": 6,
     "metadata": {},
     "output_type": "execute_result"
    }
   ],
   "source": [
    "len(customer_mode)"
   ]
  },
  {
   "cell_type": "code",
   "execution_count": 7,
   "metadata": {},
   "outputs": [
    {
     "name": "stdout",
     "output_type": "stream",
     "text": [
      "<class 'pandas.core.frame.DataFrame'>\n",
      "RangeIndex: 99441 entries, 0 to 99440\n",
      "Data columns (total 5 columns):\n",
      " #   Column                       Non-Null Count  Dtype \n",
      "---  ------                       --------------  ----- \n",
      " 0   customer_id                  99441 non-null  object\n",
      " 1   customer_unique_id           99441 non-null  object\n",
      " 2   geolocation_zip_code_prefix  99441 non-null  int64 \n",
      " 3   customer_city                99441 non-null  object\n",
      " 4   customer_state               99441 non-null  object\n",
      "dtypes: int64(1), object(4)\n",
      "memory usage: 3.8+ MB\n"
     ]
    }
   ],
   "source": [
    "customer_mode.info()"
   ]
  },
  {
   "cell_type": "code",
   "execution_count": 8,
   "metadata": {},
   "outputs": [],
   "source": [
    "x = geolocation_df.drop_duplicates('geolocation_zip_code_prefix', keep=\"first\")"
   ]
  },
  {
   "cell_type": "code",
   "execution_count": 9,
   "metadata": {},
   "outputs": [
    {
     "data": {
      "text/html": [
       "<div>\n",
       "<style scoped>\n",
       "    .dataframe tbody tr th:only-of-type {\n",
       "        vertical-align: middle;\n",
       "    }\n",
       "\n",
       "    .dataframe tbody tr th {\n",
       "        vertical-align: top;\n",
       "    }\n",
       "\n",
       "    .dataframe thead th {\n",
       "        text-align: right;\n",
       "    }\n",
       "</style>\n",
       "<table border=\"1\" class=\"dataframe\">\n",
       "  <thead>\n",
       "    <tr style=\"text-align: right;\">\n",
       "      <th></th>\n",
       "      <th>geolocation_zip_code_prefix</th>\n",
       "      <th>geolocation_lat</th>\n",
       "      <th>geolocation_lng</th>\n",
       "      <th>geolocation_city</th>\n",
       "      <th>geolocation_state</th>\n",
       "    </tr>\n",
       "  </thead>\n",
       "  <tbody>\n",
       "    <tr>\n",
       "      <th>0</th>\n",
       "      <td>1037</td>\n",
       "      <td>-23.545621</td>\n",
       "      <td>-46.639292</td>\n",
       "      <td>sao paulo</td>\n",
       "      <td>SP</td>\n",
       "    </tr>\n",
       "    <tr>\n",
       "      <th>1</th>\n",
       "      <td>1046</td>\n",
       "      <td>-23.546081</td>\n",
       "      <td>-46.644820</td>\n",
       "      <td>sao paulo</td>\n",
       "      <td>SP</td>\n",
       "    </tr>\n",
       "    <tr>\n",
       "      <th>3</th>\n",
       "      <td>1041</td>\n",
       "      <td>-23.544392</td>\n",
       "      <td>-46.639499</td>\n",
       "      <td>sao paulo</td>\n",
       "      <td>SP</td>\n",
       "    </tr>\n",
       "    <tr>\n",
       "      <th>4</th>\n",
       "      <td>1035</td>\n",
       "      <td>-23.541578</td>\n",
       "      <td>-46.641607</td>\n",
       "      <td>sao paulo</td>\n",
       "      <td>SP</td>\n",
       "    </tr>\n",
       "    <tr>\n",
       "      <th>5</th>\n",
       "      <td>1012</td>\n",
       "      <td>-23.547762</td>\n",
       "      <td>-46.635361</td>\n",
       "      <td>são paulo</td>\n",
       "      <td>SP</td>\n",
       "    </tr>\n",
       "  </tbody>\n",
       "</table>\n",
       "</div>"
      ],
      "text/plain": [
       "   geolocation_zip_code_prefix  geolocation_lat  geolocation_lng  \\\n",
       "0                         1037       -23.545621       -46.639292   \n",
       "1                         1046       -23.546081       -46.644820   \n",
       "3                         1041       -23.544392       -46.639499   \n",
       "4                         1035       -23.541578       -46.641607   \n",
       "5                         1012       -23.547762       -46.635361   \n",
       "\n",
       "  geolocation_city geolocation_state  \n",
       "0        sao paulo                SP  \n",
       "1        sao paulo                SP  \n",
       "3        sao paulo                SP  \n",
       "4        sao paulo                SP  \n",
       "5        são paulo                SP  "
      ]
     },
     "execution_count": 9,
     "metadata": {},
     "output_type": "execute_result"
    }
   ],
   "source": [
    "x.head()"
   ]
  },
  {
   "cell_type": "code",
   "execution_count": 10,
   "metadata": {},
   "outputs": [
    {
     "data": {
      "text/html": [
       "<div>\n",
       "<style scoped>\n",
       "    .dataframe tbody tr th:only-of-type {\n",
       "        vertical-align: middle;\n",
       "    }\n",
       "\n",
       "    .dataframe tbody tr th {\n",
       "        vertical-align: top;\n",
       "    }\n",
       "\n",
       "    .dataframe thead th {\n",
       "        text-align: right;\n",
       "    }\n",
       "</style>\n",
       "<table border=\"1\" class=\"dataframe\">\n",
       "  <thead>\n",
       "    <tr style=\"text-align: right;\">\n",
       "      <th></th>\n",
       "      <th>customer_id</th>\n",
       "      <th>customer_unique_id</th>\n",
       "      <th>geolocation_zip_code_prefix</th>\n",
       "      <th>customer_city</th>\n",
       "      <th>customer_state</th>\n",
       "      <th>geolocation_lat</th>\n",
       "      <th>geolocation_lng</th>\n",
       "      <th>geolocation_city</th>\n",
       "      <th>geolocation_state</th>\n",
       "    </tr>\n",
       "  </thead>\n",
       "  <tbody>\n",
       "    <tr>\n",
       "      <th>0</th>\n",
       "      <td>06b8999e2fba1a1fbc88172c00ba8bc7</td>\n",
       "      <td>861eff4711a542e4b93843c6dd7febb0</td>\n",
       "      <td>14409</td>\n",
       "      <td>franca</td>\n",
       "      <td>SP</td>\n",
       "      <td>-20.509897</td>\n",
       "      <td>-47.397866</td>\n",
       "      <td>franca</td>\n",
       "      <td>SP</td>\n",
       "    </tr>\n",
       "    <tr>\n",
       "      <th>1</th>\n",
       "      <td>18955e83d337fd6b2def6b18a428ac77</td>\n",
       "      <td>290c77bc529b7ac935b93aa66c333dc3</td>\n",
       "      <td>9790</td>\n",
       "      <td>sao bernardo do campo</td>\n",
       "      <td>SP</td>\n",
       "      <td>-23.726853</td>\n",
       "      <td>-46.545746</td>\n",
       "      <td>sao bernardo do campo</td>\n",
       "      <td>SP</td>\n",
       "    </tr>\n",
       "    <tr>\n",
       "      <th>2</th>\n",
       "      <td>4e7b3e00288586ebd08712fdd0374a03</td>\n",
       "      <td>060e732b5b29e8181a18229c7b0b2b5e</td>\n",
       "      <td>1151</td>\n",
       "      <td>sao paulo</td>\n",
       "      <td>SP</td>\n",
       "      <td>-23.527788</td>\n",
       "      <td>-46.660310</td>\n",
       "      <td>sao paulo</td>\n",
       "      <td>SP</td>\n",
       "    </tr>\n",
       "    <tr>\n",
       "      <th>3</th>\n",
       "      <td>b2b6027bc5c5109e529d4dc6358b12c3</td>\n",
       "      <td>259dac757896d24d7702b9acbbff3f3c</td>\n",
       "      <td>8775</td>\n",
       "      <td>mogi das cruzes</td>\n",
       "      <td>SP</td>\n",
       "      <td>-23.496930</td>\n",
       "      <td>-46.185352</td>\n",
       "      <td>mogi das cruzes</td>\n",
       "      <td>SP</td>\n",
       "    </tr>\n",
       "    <tr>\n",
       "      <th>4</th>\n",
       "      <td>4f2d8ab171c80ec8364f7c12e35b23ad</td>\n",
       "      <td>345ecd01c38d18a9036ed96c73b8d066</td>\n",
       "      <td>13056</td>\n",
       "      <td>campinas</td>\n",
       "      <td>SP</td>\n",
       "      <td>-22.987222</td>\n",
       "      <td>-47.151073</td>\n",
       "      <td>campinas</td>\n",
       "      <td>SP</td>\n",
       "    </tr>\n",
       "  </tbody>\n",
       "</table>\n",
       "</div>"
      ],
      "text/plain": [
       "                        customer_id                customer_unique_id  \\\n",
       "0  06b8999e2fba1a1fbc88172c00ba8bc7  861eff4711a542e4b93843c6dd7febb0   \n",
       "1  18955e83d337fd6b2def6b18a428ac77  290c77bc529b7ac935b93aa66c333dc3   \n",
       "2  4e7b3e00288586ebd08712fdd0374a03  060e732b5b29e8181a18229c7b0b2b5e   \n",
       "3  b2b6027bc5c5109e529d4dc6358b12c3  259dac757896d24d7702b9acbbff3f3c   \n",
       "4  4f2d8ab171c80ec8364f7c12e35b23ad  345ecd01c38d18a9036ed96c73b8d066   \n",
       "\n",
       "   geolocation_zip_code_prefix          customer_city customer_state  \\\n",
       "0                        14409                 franca             SP   \n",
       "1                         9790  sao bernardo do campo             SP   \n",
       "2                         1151              sao paulo             SP   \n",
       "3                         8775        mogi das cruzes             SP   \n",
       "4                        13056               campinas             SP   \n",
       "\n",
       "   geolocation_lat  geolocation_lng       geolocation_city geolocation_state  \n",
       "0       -20.509897       -47.397866                 franca                SP  \n",
       "1       -23.726853       -46.545746  sao bernardo do campo                SP  \n",
       "2       -23.527788       -46.660310              sao paulo                SP  \n",
       "3       -23.496930       -46.185352        mogi das cruzes                SP  \n",
       "4       -22.987222       -47.151073               campinas                SP  "
      ]
     },
     "execution_count": 10,
     "metadata": {},
     "output_type": "execute_result"
    }
   ],
   "source": [
    "custom_geo = pd.merge(customer_mode, x, how='inner', on='geolocation_zip_code_prefix')\n",
    "custom_geo.head()"
   ]
  },
  {
   "cell_type": "code",
   "execution_count": 11,
   "metadata": {},
   "outputs": [
    {
     "data": {
      "text/html": [
       "<div>\n",
       "<style scoped>\n",
       "    .dataframe tbody tr th:only-of-type {\n",
       "        vertical-align: middle;\n",
       "    }\n",
       "\n",
       "    .dataframe tbody tr th {\n",
       "        vertical-align: top;\n",
       "    }\n",
       "\n",
       "    .dataframe thead th {\n",
       "        text-align: right;\n",
       "    }\n",
       "</style>\n",
       "<table border=\"1\" class=\"dataframe\">\n",
       "  <thead>\n",
       "    <tr style=\"text-align: right;\">\n",
       "      <th></th>\n",
       "      <th>customer_id</th>\n",
       "      <th>customer_unique_id</th>\n",
       "      <th>geolocation_zip_code_prefix</th>\n",
       "      <th>customer_city</th>\n",
       "      <th>customer_state</th>\n",
       "      <th>geolocation_lat</th>\n",
       "      <th>geolocation_lng</th>\n",
       "    </tr>\n",
       "  </thead>\n",
       "  <tbody>\n",
       "    <tr>\n",
       "      <th>0</th>\n",
       "      <td>06b8999e2fba1a1fbc88172c00ba8bc7</td>\n",
       "      <td>861eff4711a542e4b93843c6dd7febb0</td>\n",
       "      <td>14409</td>\n",
       "      <td>franca</td>\n",
       "      <td>SP</td>\n",
       "      <td>-20.509897</td>\n",
       "      <td>-47.397866</td>\n",
       "    </tr>\n",
       "    <tr>\n",
       "      <th>1</th>\n",
       "      <td>18955e83d337fd6b2def6b18a428ac77</td>\n",
       "      <td>290c77bc529b7ac935b93aa66c333dc3</td>\n",
       "      <td>9790</td>\n",
       "      <td>sao bernardo do campo</td>\n",
       "      <td>SP</td>\n",
       "      <td>-23.726853</td>\n",
       "      <td>-46.545746</td>\n",
       "    </tr>\n",
       "    <tr>\n",
       "      <th>2</th>\n",
       "      <td>4e7b3e00288586ebd08712fdd0374a03</td>\n",
       "      <td>060e732b5b29e8181a18229c7b0b2b5e</td>\n",
       "      <td>1151</td>\n",
       "      <td>sao paulo</td>\n",
       "      <td>SP</td>\n",
       "      <td>-23.527788</td>\n",
       "      <td>-46.660310</td>\n",
       "    </tr>\n",
       "    <tr>\n",
       "      <th>3</th>\n",
       "      <td>b2b6027bc5c5109e529d4dc6358b12c3</td>\n",
       "      <td>259dac757896d24d7702b9acbbff3f3c</td>\n",
       "      <td>8775</td>\n",
       "      <td>mogi das cruzes</td>\n",
       "      <td>SP</td>\n",
       "      <td>-23.496930</td>\n",
       "      <td>-46.185352</td>\n",
       "    </tr>\n",
       "    <tr>\n",
       "      <th>4</th>\n",
       "      <td>4f2d8ab171c80ec8364f7c12e35b23ad</td>\n",
       "      <td>345ecd01c38d18a9036ed96c73b8d066</td>\n",
       "      <td>13056</td>\n",
       "      <td>campinas</td>\n",
       "      <td>SP</td>\n",
       "      <td>-22.987222</td>\n",
       "      <td>-47.151073</td>\n",
       "    </tr>\n",
       "  </tbody>\n",
       "</table>\n",
       "</div>"
      ],
      "text/plain": [
       "                        customer_id                customer_unique_id  \\\n",
       "0  06b8999e2fba1a1fbc88172c00ba8bc7  861eff4711a542e4b93843c6dd7febb0   \n",
       "1  18955e83d337fd6b2def6b18a428ac77  290c77bc529b7ac935b93aa66c333dc3   \n",
       "2  4e7b3e00288586ebd08712fdd0374a03  060e732b5b29e8181a18229c7b0b2b5e   \n",
       "3  b2b6027bc5c5109e529d4dc6358b12c3  259dac757896d24d7702b9acbbff3f3c   \n",
       "4  4f2d8ab171c80ec8364f7c12e35b23ad  345ecd01c38d18a9036ed96c73b8d066   \n",
       "\n",
       "   geolocation_zip_code_prefix          customer_city customer_state  \\\n",
       "0                        14409                 franca             SP   \n",
       "1                         9790  sao bernardo do campo             SP   \n",
       "2                         1151              sao paulo             SP   \n",
       "3                         8775        mogi das cruzes             SP   \n",
       "4                        13056               campinas             SP   \n",
       "\n",
       "   geolocation_lat  geolocation_lng  \n",
       "0       -20.509897       -47.397866  \n",
       "1       -23.726853       -46.545746  \n",
       "2       -23.527788       -46.660310  \n",
       "3       -23.496930       -46.185352  \n",
       "4       -22.987222       -47.151073  "
      ]
     },
     "execution_count": 11,
     "metadata": {},
     "output_type": "execute_result"
    }
   ],
   "source": [
    "custom_geo = custom_geo.drop(axis=1,\n",
    "columns=['geolocation_city','geolocation_state'])\n",
    "custom_geo.head()"
   ]
  },
  {
   "cell_type": "code",
   "execution_count": 12,
   "metadata": {},
   "outputs": [
    {
     "data": {
      "text/plain": [
       "99441"
      ]
     },
     "execution_count": 12,
     "metadata": {},
     "output_type": "execute_result"
    }
   ],
   "source": [
    "len(customer_mode)"
   ]
  },
  {
   "cell_type": "code",
   "execution_count": 13,
   "metadata": {},
   "outputs": [
    {
     "data": {
      "text/plain": [
       "99163"
      ]
     },
     "execution_count": 13,
     "metadata": {},
     "output_type": "execute_result"
    }
   ],
   "source": [
    "len(custom_geo)"
   ]
  },
  {
   "cell_type": "code",
   "execution_count": 14,
   "metadata": {},
   "outputs": [],
   "source": [
    "custom_geo.to_csv('custom_geo.csv')"
   ]
  },
  {
   "cell_type": "markdown",
   "metadata": {},
   "source": [
    "### seller geo dataset"
   ]
  },
  {
   "cell_type": "code",
   "execution_count": 15,
   "metadata": {},
   "outputs": [],
   "source": [
    "seller_mode = sellers_df.rename(columns={\"seller_zip_code_prefix\": \"geolocation_zip_code_prefix\"})"
   ]
  },
  {
   "cell_type": "code",
   "execution_count": 16,
   "metadata": {},
   "outputs": [
    {
     "data": {
      "text/plain": [
       "3095"
      ]
     },
     "execution_count": 16,
     "metadata": {},
     "output_type": "execute_result"
    }
   ],
   "source": [
    "len(seller_mode)"
   ]
  },
  {
   "cell_type": "code",
   "execution_count": 17,
   "metadata": {},
   "outputs": [
    {
     "data": {
      "text/html": [
       "<div>\n",
       "<style scoped>\n",
       "    .dataframe tbody tr th:only-of-type {\n",
       "        vertical-align: middle;\n",
       "    }\n",
       "\n",
       "    .dataframe tbody tr th {\n",
       "        vertical-align: top;\n",
       "    }\n",
       "\n",
       "    .dataframe thead th {\n",
       "        text-align: right;\n",
       "    }\n",
       "</style>\n",
       "<table border=\"1\" class=\"dataframe\">\n",
       "  <thead>\n",
       "    <tr style=\"text-align: right;\">\n",
       "      <th></th>\n",
       "      <th>seller_id</th>\n",
       "      <th>geolocation_zip_code_prefix</th>\n",
       "      <th>seller_city</th>\n",
       "      <th>seller_state</th>\n",
       "      <th>geolocation_lat</th>\n",
       "      <th>geolocation_lng</th>\n",
       "      <th>geolocation_city</th>\n",
       "      <th>geolocation_state</th>\n",
       "    </tr>\n",
       "  </thead>\n",
       "  <tbody>\n",
       "    <tr>\n",
       "      <th>0</th>\n",
       "      <td>3442f8959a84dea7ee197c632cb2df15</td>\n",
       "      <td>13023</td>\n",
       "      <td>campinas</td>\n",
       "      <td>SP</td>\n",
       "      <td>-22.898536</td>\n",
       "      <td>-47.063125</td>\n",
       "      <td>campinas</td>\n",
       "      <td>SP</td>\n",
       "    </tr>\n",
       "    <tr>\n",
       "      <th>1</th>\n",
       "      <td>d1b65fc7debc3361ea86b5f14c68d2e2</td>\n",
       "      <td>13844</td>\n",
       "      <td>mogi guacu</td>\n",
       "      <td>SP</td>\n",
       "      <td>-22.382941</td>\n",
       "      <td>-46.946641</td>\n",
       "      <td>mogi-guacu</td>\n",
       "      <td>SP</td>\n",
       "    </tr>\n",
       "    <tr>\n",
       "      <th>2</th>\n",
       "      <td>ce3ad9de960102d0677a81f5d0bb7b2d</td>\n",
       "      <td>20031</td>\n",
       "      <td>rio de janeiro</td>\n",
       "      <td>RJ</td>\n",
       "      <td>-22.910641</td>\n",
       "      <td>-43.176510</td>\n",
       "      <td>rio de janeiro</td>\n",
       "      <td>RJ</td>\n",
       "    </tr>\n",
       "    <tr>\n",
       "      <th>3</th>\n",
       "      <td>c0f3eea2e14555b6faeea3dd58c1b1c3</td>\n",
       "      <td>4195</td>\n",
       "      <td>sao paulo</td>\n",
       "      <td>SP</td>\n",
       "      <td>-23.657250</td>\n",
       "      <td>-46.610759</td>\n",
       "      <td>sao paulo</td>\n",
       "      <td>SP</td>\n",
       "    </tr>\n",
       "    <tr>\n",
       "      <th>4</th>\n",
       "      <td>51a04a8a6bdcb23deccc82b0b80742cf</td>\n",
       "      <td>12914</td>\n",
       "      <td>braganca paulista</td>\n",
       "      <td>SP</td>\n",
       "      <td>-22.971648</td>\n",
       "      <td>-46.533618</td>\n",
       "      <td>bragança paulista</td>\n",
       "      <td>SP</td>\n",
       "    </tr>\n",
       "  </tbody>\n",
       "</table>\n",
       "</div>"
      ],
      "text/plain": [
       "                          seller_id  geolocation_zip_code_prefix  \\\n",
       "0  3442f8959a84dea7ee197c632cb2df15                        13023   \n",
       "1  d1b65fc7debc3361ea86b5f14c68d2e2                        13844   \n",
       "2  ce3ad9de960102d0677a81f5d0bb7b2d                        20031   \n",
       "3  c0f3eea2e14555b6faeea3dd58c1b1c3                         4195   \n",
       "4  51a04a8a6bdcb23deccc82b0b80742cf                        12914   \n",
       "\n",
       "         seller_city seller_state  geolocation_lat  geolocation_lng  \\\n",
       "0           campinas           SP       -22.898536       -47.063125   \n",
       "1         mogi guacu           SP       -22.382941       -46.946641   \n",
       "2     rio de janeiro           RJ       -22.910641       -43.176510   \n",
       "3          sao paulo           SP       -23.657250       -46.610759   \n",
       "4  braganca paulista           SP       -22.971648       -46.533618   \n",
       "\n",
       "    geolocation_city geolocation_state  \n",
       "0           campinas                SP  \n",
       "1         mogi-guacu                SP  \n",
       "2     rio de janeiro                RJ  \n",
       "3          sao paulo                SP  \n",
       "4  bragança paulista                SP  "
      ]
     },
     "execution_count": 17,
     "metadata": {},
     "output_type": "execute_result"
    }
   ],
   "source": [
    "seller_geo = pd.merge(seller_mode, x, how='inner', on='geolocation_zip_code_prefix')\n",
    "seller_geo.head()"
   ]
  },
  {
   "cell_type": "code",
   "execution_count": 18,
   "metadata": {},
   "outputs": [
    {
     "data": {
      "text/html": [
       "<div>\n",
       "<style scoped>\n",
       "    .dataframe tbody tr th:only-of-type {\n",
       "        vertical-align: middle;\n",
       "    }\n",
       "\n",
       "    .dataframe tbody tr th {\n",
       "        vertical-align: top;\n",
       "    }\n",
       "\n",
       "    .dataframe thead th {\n",
       "        text-align: right;\n",
       "    }\n",
       "</style>\n",
       "<table border=\"1\" class=\"dataframe\">\n",
       "  <thead>\n",
       "    <tr style=\"text-align: right;\">\n",
       "      <th></th>\n",
       "      <th>seller_id</th>\n",
       "      <th>geolocation_zip_code_prefix</th>\n",
       "      <th>seller_city</th>\n",
       "      <th>seller_state</th>\n",
       "      <th>geolocation_lat</th>\n",
       "      <th>geolocation_lng</th>\n",
       "    </tr>\n",
       "  </thead>\n",
       "  <tbody>\n",
       "    <tr>\n",
       "      <th>0</th>\n",
       "      <td>3442f8959a84dea7ee197c632cb2df15</td>\n",
       "      <td>13023</td>\n",
       "      <td>campinas</td>\n",
       "      <td>SP</td>\n",
       "      <td>-22.898536</td>\n",
       "      <td>-47.063125</td>\n",
       "    </tr>\n",
       "    <tr>\n",
       "      <th>1</th>\n",
       "      <td>d1b65fc7debc3361ea86b5f14c68d2e2</td>\n",
       "      <td>13844</td>\n",
       "      <td>mogi guacu</td>\n",
       "      <td>SP</td>\n",
       "      <td>-22.382941</td>\n",
       "      <td>-46.946641</td>\n",
       "    </tr>\n",
       "    <tr>\n",
       "      <th>2</th>\n",
       "      <td>ce3ad9de960102d0677a81f5d0bb7b2d</td>\n",
       "      <td>20031</td>\n",
       "      <td>rio de janeiro</td>\n",
       "      <td>RJ</td>\n",
       "      <td>-22.910641</td>\n",
       "      <td>-43.176510</td>\n",
       "    </tr>\n",
       "    <tr>\n",
       "      <th>3</th>\n",
       "      <td>c0f3eea2e14555b6faeea3dd58c1b1c3</td>\n",
       "      <td>4195</td>\n",
       "      <td>sao paulo</td>\n",
       "      <td>SP</td>\n",
       "      <td>-23.657250</td>\n",
       "      <td>-46.610759</td>\n",
       "    </tr>\n",
       "    <tr>\n",
       "      <th>4</th>\n",
       "      <td>51a04a8a6bdcb23deccc82b0b80742cf</td>\n",
       "      <td>12914</td>\n",
       "      <td>braganca paulista</td>\n",
       "      <td>SP</td>\n",
       "      <td>-22.971648</td>\n",
       "      <td>-46.533618</td>\n",
       "    </tr>\n",
       "  </tbody>\n",
       "</table>\n",
       "</div>"
      ],
      "text/plain": [
       "                          seller_id  geolocation_zip_code_prefix  \\\n",
       "0  3442f8959a84dea7ee197c632cb2df15                        13023   \n",
       "1  d1b65fc7debc3361ea86b5f14c68d2e2                        13844   \n",
       "2  ce3ad9de960102d0677a81f5d0bb7b2d                        20031   \n",
       "3  c0f3eea2e14555b6faeea3dd58c1b1c3                         4195   \n",
       "4  51a04a8a6bdcb23deccc82b0b80742cf                        12914   \n",
       "\n",
       "         seller_city seller_state  geolocation_lat  geolocation_lng  \n",
       "0           campinas           SP       -22.898536       -47.063125  \n",
       "1         mogi guacu           SP       -22.382941       -46.946641  \n",
       "2     rio de janeiro           RJ       -22.910641       -43.176510  \n",
       "3          sao paulo           SP       -23.657250       -46.610759  \n",
       "4  braganca paulista           SP       -22.971648       -46.533618  "
      ]
     },
     "execution_count": 18,
     "metadata": {},
     "output_type": "execute_result"
    }
   ],
   "source": [
    "seller_geo = seller_geo.drop(axis=1,\n",
    "columns=['geolocation_city','geolocation_state'])\n",
    "seller_geo.head()"
   ]
  },
  {
   "cell_type": "code",
   "execution_count": 19,
   "metadata": {},
   "outputs": [],
   "source": [
    "seller_geo.to_csv('seller_geo.csv')"
   ]
  },
  {
   "cell_type": "code",
   "execution_count": 20,
   "metadata": {},
   "outputs": [
    {
     "data": {
      "text/plain": [
       "3095"
      ]
     },
     "execution_count": 20,
     "metadata": {},
     "output_type": "execute_result"
    }
   ],
   "source": [
    "len(sellers_df)"
   ]
  },
  {
   "cell_type": "markdown",
   "metadata": {},
   "source": [
    "### Main Dataframe"
   ]
  },
  {
   "cell_type": "code",
   "execution_count": 21,
   "metadata": {},
   "outputs": [
    {
     "name": "stdout",
     "output_type": "stream",
     "text": [
      "                            product_category_name  \\\n",
      "0                                    beleza_saude   \n",
      "1                          informatica_acessorios   \n",
      "2                                      automotivo   \n",
      "3                                 cama_mesa_banho   \n",
      "4                                moveis_decoracao   \n",
      "..                                            ...   \n",
      "68                                fraldas_higiene   \n",
      "69                  fashion_roupa_infanto_juvenil   \n",
      "70                             seguros_e_servicos   \n",
      "71                                       pc_gamer   \n",
      "72  portateis_cozinha_e_preparadores_de_alimentos   \n",
      "\n",
      "            product_category_name_english  \n",
      "0                           health_beauty  \n",
      "1                   computers_accessories  \n",
      "2                                    auto  \n",
      "3                          bed_bath_table  \n",
      "4                         furniture_decor  \n",
      "..                                    ...  \n",
      "68                    diapers_and_hygiene  \n",
      "69              fashion_childrens_clothes  \n",
      "70                  security_and_services  \n",
      "71                                pc_game  \n",
      "72  portable_kitchen_and_food_preparators  \n",
      "\n",
      "[73 rows x 2 columns]\n"
     ]
    }
   ],
   "source": [
    "new_rows = pd.DataFrame({\"product_category_name\": [\"pc_gamer\", \"portateis_cozinha_e_preparadores_de_alimentos\"], \"product_category_name_english\": [\"pc_game\", \"portable_kitchen_and_food_preparators\"]})\n",
    "category_translation_df = pd.concat([category_translation_df, new_rows], ignore_index=True)\n",
    "print(category_translation_df)"
   ]
  },
  {
   "cell_type": "code",
   "execution_count": 22,
   "metadata": {},
   "outputs": [
    {
     "name": "stdout",
     "output_type": "stream",
     "text": [
      "Dataset Name: customers_df\n",
      "<class 'pandas.core.frame.DataFrame'>\n",
      "RangeIndex: 99441 entries, 0 to 99440\n",
      "Data columns (total 5 columns):\n",
      " #   Column                    Non-Null Count  Dtype \n",
      "---  ------                    --------------  ----- \n",
      " 0   customer_id               99441 non-null  object\n",
      " 1   customer_unique_id        99441 non-null  object\n",
      " 2   customer_zip_code_prefix  99441 non-null  int64 \n",
      " 3   customer_city             99441 non-null  object\n",
      " 4   customer_state            99441 non-null  object\n",
      "dtypes: int64(1), object(4)\n",
      "memory usage: 3.8+ MB\n"
     ]
    },
    {
     "data": {
      "text/plain": [
       "None"
      ]
     },
     "metadata": {},
     "output_type": "display_data"
    },
    {
     "name": "stdout",
     "output_type": "stream",
     "text": [
      "Dataset Name: items_df\n",
      "<class 'pandas.core.frame.DataFrame'>\n",
      "RangeIndex: 112650 entries, 0 to 112649\n",
      "Data columns (total 7 columns):\n",
      " #   Column               Non-Null Count   Dtype  \n",
      "---  ------               --------------   -----  \n",
      " 0   order_id             112650 non-null  object \n",
      " 1   order_item_id        112650 non-null  int64  \n",
      " 2   product_id           112650 non-null  object \n",
      " 3   seller_id            112650 non-null  object \n",
      " 4   shipping_limit_date  112650 non-null  object \n",
      " 5   price                112650 non-null  float64\n",
      " 6   freight_value        112650 non-null  float64\n",
      "dtypes: float64(2), int64(1), object(4)\n",
      "memory usage: 6.0+ MB\n"
     ]
    },
    {
     "data": {
      "text/plain": [
       "None"
      ]
     },
     "metadata": {},
     "output_type": "display_data"
    },
    {
     "name": "stdout",
     "output_type": "stream",
     "text": [
      "Dataset Name: payments_df\n",
      "<class 'pandas.core.frame.DataFrame'>\n",
      "RangeIndex: 103886 entries, 0 to 103885\n",
      "Data columns (total 5 columns):\n",
      " #   Column                Non-Null Count   Dtype  \n",
      "---  ------                --------------   -----  \n",
      " 0   order_id              103886 non-null  object \n",
      " 1   payment_sequential    103886 non-null  int64  \n",
      " 2   payment_type          103886 non-null  object \n",
      " 3   payment_installments  103886 non-null  int64  \n",
      " 4   payment_value         103886 non-null  float64\n",
      "dtypes: float64(1), int64(2), object(2)\n",
      "memory usage: 4.0+ MB\n"
     ]
    },
    {
     "data": {
      "text/plain": [
       "None"
      ]
     },
     "metadata": {},
     "output_type": "display_data"
    },
    {
     "name": "stdout",
     "output_type": "stream",
     "text": [
      "Dataset Name: reviews_df\n",
      "<class 'pandas.core.frame.DataFrame'>\n",
      "RangeIndex: 99224 entries, 0 to 99223\n",
      "Data columns (total 7 columns):\n",
      " #   Column                   Non-Null Count  Dtype \n",
      "---  ------                   --------------  ----- \n",
      " 0   review_id                99224 non-null  object\n",
      " 1   order_id                 99224 non-null  object\n",
      " 2   review_score             99224 non-null  int64 \n",
      " 3   review_comment_title     11568 non-null  object\n",
      " 4   review_comment_message   40977 non-null  object\n",
      " 5   review_creation_date     99224 non-null  object\n",
      " 6   review_answer_timestamp  99224 non-null  object\n",
      "dtypes: int64(1), object(6)\n",
      "memory usage: 5.3+ MB\n"
     ]
    },
    {
     "data": {
      "text/plain": [
       "None"
      ]
     },
     "metadata": {},
     "output_type": "display_data"
    },
    {
     "name": "stdout",
     "output_type": "stream",
     "text": [
      "Dataset Name: orders_df\n",
      "<class 'pandas.core.frame.DataFrame'>\n",
      "RangeIndex: 99441 entries, 0 to 99440\n",
      "Data columns (total 8 columns):\n",
      " #   Column                         Non-Null Count  Dtype \n",
      "---  ------                         --------------  ----- \n",
      " 0   order_id                       99441 non-null  object\n",
      " 1   customer_id                    99441 non-null  object\n",
      " 2   order_status                   99441 non-null  object\n",
      " 3   order_purchase_timestamp       99441 non-null  object\n",
      " 4   order_approved_at              99281 non-null  object\n",
      " 5   order_delivered_carrier_date   97658 non-null  object\n",
      " 6   order_delivered_customer_date  96476 non-null  object\n",
      " 7   order_estimated_delivery_date  99441 non-null  object\n",
      "dtypes: object(8)\n",
      "memory usage: 6.1+ MB\n"
     ]
    },
    {
     "data": {
      "text/plain": [
       "None"
      ]
     },
     "metadata": {},
     "output_type": "display_data"
    },
    {
     "name": "stdout",
     "output_type": "stream",
     "text": [
      "Dataset Name: products_df\n",
      "<class 'pandas.core.frame.DataFrame'>\n",
      "RangeIndex: 32951 entries, 0 to 32950\n",
      "Data columns (total 9 columns):\n",
      " #   Column                      Non-Null Count  Dtype  \n",
      "---  ------                      --------------  -----  \n",
      " 0   product_id                  32951 non-null  object \n",
      " 1   product_category_name       32341 non-null  object \n",
      " 2   product_name_lenght         32341 non-null  float64\n",
      " 3   product_description_lenght  32341 non-null  float64\n",
      " 4   product_photos_qty          32341 non-null  float64\n",
      " 5   product_weight_g            32949 non-null  float64\n",
      " 6   product_length_cm           32949 non-null  float64\n",
      " 7   product_height_cm           32949 non-null  float64\n",
      " 8   product_width_cm            32949 non-null  float64\n",
      "dtypes: float64(7), object(2)\n",
      "memory usage: 2.3+ MB\n"
     ]
    },
    {
     "data": {
      "text/plain": [
       "None"
      ]
     },
     "metadata": {},
     "output_type": "display_data"
    },
    {
     "name": "stdout",
     "output_type": "stream",
     "text": [
      "Dataset Name: sellers_df\n",
      "<class 'pandas.core.frame.DataFrame'>\n",
      "RangeIndex: 3095 entries, 0 to 3094\n",
      "Data columns (total 4 columns):\n",
      " #   Column                  Non-Null Count  Dtype \n",
      "---  ------                  --------------  ----- \n",
      " 0   seller_id               3095 non-null   object\n",
      " 1   seller_zip_code_prefix  3095 non-null   int64 \n",
      " 2   seller_city             3095 non-null   object\n",
      " 3   seller_state            3095 non-null   object\n",
      "dtypes: int64(1), object(3)\n",
      "memory usage: 96.8+ KB\n"
     ]
    },
    {
     "data": {
      "text/plain": [
       "None"
      ]
     },
     "metadata": {},
     "output_type": "display_data"
    },
    {
     "name": "stdout",
     "output_type": "stream",
     "text": [
      "Dataset Name: category_translation_df\n",
      "<class 'pandas.core.frame.DataFrame'>\n",
      "RangeIndex: 73 entries, 0 to 72\n",
      "Data columns (total 2 columns):\n",
      " #   Column                         Non-Null Count  Dtype \n",
      "---  ------                         --------------  ----- \n",
      " 0   product_category_name          73 non-null     object\n",
      " 1   product_category_name_english  73 non-null     object\n",
      "dtypes: object(2)\n",
      "memory usage: 1.3+ KB\n"
     ]
    },
    {
     "data": {
      "text/plain": [
       "None"
      ]
     },
     "metadata": {},
     "output_type": "display_data"
    }
   ],
   "source": [
    "# Data information\n",
    "\n",
    "for df in ['customers_df', 'items_df', 'payments_df', 'reviews_df', 'orders_df', 'products_df', 'sellers_df', 'category_translation_df']:\n",
    "    print(f\"Dataset Name: {df}\")\n",
    "    display(eval(df).info())"
   ]
  },
  {
   "cell_type": "code",
   "execution_count": 23,
   "metadata": {},
   "outputs": [
    {
     "name": "stdout",
     "output_type": "stream",
     "text": [
      "<class 'pandas.core.frame.DataFrame'>\n",
      "RangeIndex: 119143 entries, 0 to 119142\n",
      "Data columns (total 40 columns):\n",
      " #   Column                         Non-Null Count   Dtype  \n",
      "---  ------                         --------------   -----  \n",
      " 0   order_id                       119143 non-null  object \n",
      " 1   customer_id                    119143 non-null  object \n",
      " 2   order_status                   119143 non-null  object \n",
      " 3   order_purchase_timestamp       119143 non-null  object \n",
      " 4   order_approved_at              118966 non-null  object \n",
      " 5   order_delivered_carrier_date   117057 non-null  object \n",
      " 6   order_delivered_customer_date  115722 non-null  object \n",
      " 7   order_estimated_delivery_date  119143 non-null  object \n",
      " 8   customer_unique_id             119143 non-null  object \n",
      " 9   customer_zip_code_prefix       119143 non-null  int64  \n",
      " 10  customer_city                  119143 non-null  object \n",
      " 11  customer_state                 119143 non-null  object \n",
      " 12  order_item_id                  118310 non-null  float64\n",
      " 13  product_id                     118310 non-null  object \n",
      " 14  seller_id                      118310 non-null  object \n",
      " 15  shipping_limit_date            118310 non-null  object \n",
      " 16  price                          118310 non-null  float64\n",
      " 17  freight_value                  118310 non-null  float64\n",
      " 18  payment_sequential             119140 non-null  float64\n",
      " 19  payment_type                   119140 non-null  object \n",
      " 20  payment_installments           119140 non-null  float64\n",
      " 21  payment_value                  119140 non-null  float64\n",
      " 22  review_id                      118146 non-null  object \n",
      " 23  review_score                   118146 non-null  float64\n",
      " 24  review_comment_title           13989 non-null   object \n",
      " 25  review_comment_message         50245 non-null   object \n",
      " 26  review_creation_date           118146 non-null  object \n",
      " 27  review_answer_timestamp        118146 non-null  object \n",
      " 28  seller_zip_code_prefix         118310 non-null  float64\n",
      " 29  seller_city                    118310 non-null  object \n",
      " 30  seller_state                   118310 non-null  object \n",
      " 31  product_category_name          116601 non-null  object \n",
      " 32  product_name_lenght            116601 non-null  float64\n",
      " 33  product_description_lenght     116601 non-null  float64\n",
      " 34  product_photos_qty             116601 non-null  float64\n",
      " 35  product_weight_g               118290 non-null  float64\n",
      " 36  product_length_cm              118290 non-null  float64\n",
      " 37  product_height_cm              118290 non-null  float64\n",
      " 38  product_width_cm               118290 non-null  float64\n",
      " 39  product_category_name_english  116601 non-null  object \n",
      "dtypes: float64(15), int64(1), object(24)\n",
      "memory usage: 36.4+ MB\n"
     ]
    }
   ],
   "source": [
    "# Merging dataset\n",
    "\n",
    "df = pd.merge(orders_df, customers_df, on='customer_id', how='outer', validate='m:m')\n",
    "df = pd.merge(df, items_df, on='order_id', how='left')\n",
    "df = pd.merge(df, payments_df, on='order_id', how='left')\n",
    "df = pd.merge(df, reviews_df, on='order_id', how='left')\n",
    "df = pd.merge(df, sellers_df, on='seller_id', how='left')\n",
    "df = pd.merge(df, products_df, on='product_id', how='left')\n",
    "df = pd.merge(df, category_translation_df, on='product_category_name', how='left')\n",
    "df.info()"
   ]
  },
  {
   "cell_type": "code",
   "execution_count": 24,
   "metadata": {},
   "outputs": [
    {
     "data": {
      "text/plain": [
       "0"
      ]
     },
     "execution_count": 24,
     "metadata": {},
     "output_type": "execute_result"
    }
   ],
   "source": [
    "df.duplicated().sum()"
   ]
  },
  {
   "cell_type": "code",
   "execution_count": 25,
   "metadata": {},
   "outputs": [
    {
     "data": {
      "text/plain": [
       "order_id                              0\n",
       "customer_id                           0\n",
       "order_status                          0\n",
       "order_purchase_timestamp              0\n",
       "order_approved_at                   177\n",
       "order_delivered_carrier_date       2086\n",
       "order_delivered_customer_date      3421\n",
       "order_estimated_delivery_date         0\n",
       "customer_unique_id                    0\n",
       "customer_zip_code_prefix              0\n",
       "customer_city                         0\n",
       "customer_state                        0\n",
       "order_item_id                       833\n",
       "product_id                          833\n",
       "seller_id                           833\n",
       "shipping_limit_date                 833\n",
       "price                               833\n",
       "freight_value                       833\n",
       "payment_sequential                    3\n",
       "payment_type                          3\n",
       "payment_installments                  3\n",
       "payment_value                         3\n",
       "review_id                           997\n",
       "review_score                        997\n",
       "review_comment_title             105154\n",
       "review_comment_message            68898\n",
       "review_creation_date                997\n",
       "review_answer_timestamp             997\n",
       "seller_zip_code_prefix              833\n",
       "seller_city                         833\n",
       "seller_state                        833\n",
       "product_category_name              2542\n",
       "product_name_lenght                2542\n",
       "product_description_lenght         2542\n",
       "product_photos_qty                 2542\n",
       "product_weight_g                    853\n",
       "product_length_cm                   853\n",
       "product_height_cm                   853\n",
       "product_width_cm                    853\n",
       "product_category_name_english      2542\n",
       "dtype: int64"
      ]
     },
     "execution_count": 25,
     "metadata": {},
     "output_type": "execute_result"
    }
   ],
   "source": [
    "df.isna().sum()"
   ]
  },
  {
   "cell_type": "code",
   "execution_count": 26,
   "metadata": {},
   "outputs": [
    {
     "name": "stderr",
     "output_type": "stream",
     "text": [
      "/var/folders/3v/hv5ldk793vl31x7tgfq73tmr0000gn/T/ipykernel_65806/2999001223.py:1: FutureWarning: A value is trying to be set on a copy of a DataFrame or Series through chained assignment using an inplace method.\n",
      "The behavior will change in pandas 3.0. This inplace method will never work because the intermediate object on which we are setting values always behaves as a copy.\n",
      "\n",
      "For example, when doing 'df[col].method(value, inplace=True)', try using 'df.method({col: value}, inplace=True)' or df[col] = df[col].method(value) instead, to perform the operation inplace on the original object.\n",
      "\n",
      "\n",
      "  df['product_category_name_english'].fillna('Missing', inplace = True)\n"
     ]
    }
   ],
   "source": [
    "df['product_category_name_english'].fillna('Missing', inplace = True)"
   ]
  },
  {
   "cell_type": "code",
   "execution_count": 27,
   "metadata": {},
   "outputs": [
    {
     "data": {
      "text/plain": [
       "order_id                              0\n",
       "customer_id                           0\n",
       "order_status                          0\n",
       "order_purchase_timestamp              0\n",
       "order_approved_at                   177\n",
       "order_delivered_carrier_date       2086\n",
       "order_delivered_customer_date      3421\n",
       "order_estimated_delivery_date         0\n",
       "customer_unique_id                    0\n",
       "customer_zip_code_prefix              0\n",
       "customer_city                         0\n",
       "customer_state                        0\n",
       "order_item_id                       833\n",
       "product_id                          833\n",
       "seller_id                           833\n",
       "shipping_limit_date                 833\n",
       "price                               833\n",
       "freight_value                       833\n",
       "payment_sequential                    3\n",
       "payment_type                          3\n",
       "payment_installments                  3\n",
       "payment_value                         3\n",
       "review_id                           997\n",
       "review_score                        997\n",
       "review_comment_title             105154\n",
       "review_comment_message            68898\n",
       "review_creation_date                997\n",
       "review_answer_timestamp             997\n",
       "seller_zip_code_prefix              833\n",
       "seller_city                         833\n",
       "seller_state                        833\n",
       "product_category_name              2542\n",
       "product_name_lenght                2542\n",
       "product_description_lenght         2542\n",
       "product_photos_qty                 2542\n",
       "product_weight_g                    853\n",
       "product_length_cm                   853\n",
       "product_height_cm                   853\n",
       "product_width_cm                    853\n",
       "product_category_name_english         0\n",
       "dtype: int64"
      ]
     },
     "execution_count": 27,
     "metadata": {},
     "output_type": "execute_result"
    }
   ],
   "source": [
    "df.isna().sum()"
   ]
  },
  {
   "cell_type": "code",
   "execution_count": 28,
   "metadata": {},
   "outputs": [
    {
     "data": {
      "text/plain": [
       "order_status\n",
       "delivered      861\n",
       "shipped         88\n",
       "canceled        20\n",
       "unavailable     14\n",
       "processing       6\n",
       "invoiced         6\n",
       "created          2\n",
       "Name: count, dtype: int64"
      ]
     },
     "execution_count": 28,
     "metadata": {},
     "output_type": "execute_result"
    }
   ],
   "source": [
    "x = df[df['review_score'].isna()]['order_status']\n",
    "x.value_counts()"
   ]
  },
  {
   "cell_type": "code",
   "execution_count": 29,
   "metadata": {},
   "outputs": [],
   "source": [
    "# remove columns yang tidak butuh\n",
    "df = df.drop(axis=1,\n",
    "columns=['product_name_lenght',\n",
    "'product_description_lenght',\n",
    "'product_photos_qty',\n",
    "'product_weight_g',\n",
    "'product_length_cm',\n",
    "'product_height_cm',\n",
    "'product_width_cm',\n",
    "'order_delivered_carrier_date',\n",
    "'order_delivered_customer_date',\n",
    "'order_estimated_delivery_date'\n",
    ",'shipping_limit_date','order_approved_at',\n",
    "'review_comment_title',\n",
    "'review_comment_message',\n",
    "'review_creation_date',\n",
    "'review_answer_timestamp',\n",
    "'product_category_name'])"
   ]
  },
  {
   "cell_type": "code",
   "execution_count": 30,
   "metadata": {},
   "outputs": [
    {
     "data": {
      "text/plain": [
       "order_id                           0\n",
       "customer_id                        0\n",
       "order_status                       0\n",
       "order_purchase_timestamp           0\n",
       "customer_unique_id                 0\n",
       "customer_zip_code_prefix           0\n",
       "customer_city                      0\n",
       "customer_state                     0\n",
       "order_item_id                    833\n",
       "product_id                       833\n",
       "seller_id                        833\n",
       "price                            833\n",
       "freight_value                    833\n",
       "payment_sequential                 3\n",
       "payment_type                       3\n",
       "payment_installments               3\n",
       "payment_value                      3\n",
       "review_id                        997\n",
       "review_score                     997\n",
       "seller_zip_code_prefix           833\n",
       "seller_city                      833\n",
       "seller_state                     833\n",
       "product_category_name_english      0\n",
       "dtype: int64"
      ]
     },
     "execution_count": 30,
     "metadata": {},
     "output_type": "execute_result"
    }
   ],
   "source": [
    "df.isna().sum()"
   ]
  },
  {
   "cell_type": "code",
   "execution_count": 31,
   "metadata": {},
   "outputs": [
    {
     "name": "stdout",
     "output_type": "stream",
     "text": [
      "order_id                         0\n",
      "customer_id                      0\n",
      "order_status                     0\n",
      "order_purchase_timestamp         0\n",
      "customer_unique_id               0\n",
      "customer_zip_code_prefix         0\n",
      "customer_city                    0\n",
      "customer_state                   0\n",
      "order_item_id                    0\n",
      "product_id                       0\n",
      "seller_id                        0\n",
      "price                            0\n",
      "freight_value                    0\n",
      "payment_sequential               0\n",
      "payment_type                     0\n",
      "payment_installments             0\n",
      "payment_value                    0\n",
      "review_id                        0\n",
      "review_score                     0\n",
      "seller_zip_code_prefix           0\n",
      "seller_city                      0\n",
      "seller_state                     0\n",
      "product_category_name_english    0\n",
      "dtype: int64\n"
     ]
    }
   ],
   "source": [
    "df = df.dropna()  \n",
    "print(df.isna().sum()) "
   ]
  },
  {
   "cell_type": "code",
   "execution_count": 32,
   "metadata": {},
   "outputs": [
    {
     "name": "stdout",
     "output_type": "stream",
     "text": [
      "<class 'pandas.core.frame.DataFrame'>\n",
      "Index: 117329 entries, 0 to 119141\n",
      "Data columns (total 23 columns):\n",
      " #   Column                         Non-Null Count   Dtype  \n",
      "---  ------                         --------------   -----  \n",
      " 0   order_id                       117329 non-null  object \n",
      " 1   customer_id                    117329 non-null  object \n",
      " 2   order_status                   117329 non-null  object \n",
      " 3   order_purchase_timestamp       117329 non-null  object \n",
      " 4   customer_unique_id             117329 non-null  object \n",
      " 5   customer_zip_code_prefix       117329 non-null  int64  \n",
      " 6   customer_city                  117329 non-null  object \n",
      " 7   customer_state                 117329 non-null  object \n",
      " 8   order_item_id                  117329 non-null  float64\n",
      " 9   product_id                     117329 non-null  object \n",
      " 10  seller_id                      117329 non-null  object \n",
      " 11  price                          117329 non-null  float64\n",
      " 12  freight_value                  117329 non-null  float64\n",
      " 13  payment_sequential             117329 non-null  float64\n",
      " 14  payment_type                   117329 non-null  object \n",
      " 15  payment_installments           117329 non-null  float64\n",
      " 16  payment_value                  117329 non-null  float64\n",
      " 17  review_id                      117329 non-null  object \n",
      " 18  review_score                   117329 non-null  float64\n",
      " 19  seller_zip_code_prefix         117329 non-null  float64\n",
      " 20  seller_city                    117329 non-null  object \n",
      " 21  seller_state                   117329 non-null  object \n",
      " 22  product_category_name_english  117329 non-null  object \n",
      "dtypes: float64(8), int64(1), object(14)\n",
      "memory usage: 21.5+ MB\n"
     ]
    }
   ],
   "source": [
    "df.info()"
   ]
  },
  {
   "cell_type": "code",
   "execution_count": 33,
   "metadata": {},
   "outputs": [],
   "source": [
    "# Change to Datetime\n",
    "df['order_purchase_timestamp']=pd.to_datetime(df['order_purchase_timestamp'])"
   ]
  },
  {
   "cell_type": "code",
   "execution_count": 34,
   "metadata": {},
   "outputs": [],
   "source": [
    "df['order_purchase_date'] = pd.to_datetime(df['order_purchase_timestamp'])\n",
    "df['order_purchase_date'] = df['order_purchase_date'].dt.strftime('%Y-%m-%d-%H')\n",
    "df['order_purchase_date'] = pd.to_datetime(df['order_purchase_date'])"
   ]
  },
  {
   "cell_type": "code",
   "execution_count": 35,
   "metadata": {},
   "outputs": [],
   "source": [
    "df['year'] = df['order_purchase_date'].dt.year\n",
    "df['month'] = df['order_purchase_date'].dt.strftime('%b')\n",
    "df['day'] = df['order_purchase_date'].dt.day\n",
    "df['hour'] = df['order_purchase_date'].dt.hour"
   ]
  },
  {
   "cell_type": "code",
   "execution_count": 36,
   "metadata": {},
   "outputs": [
    {
     "name": "stdout",
     "output_type": "stream",
     "text": [
      "<class 'pandas.core.frame.DataFrame'>\n",
      "Index: 117329 entries, 0 to 119141\n",
      "Data columns (total 28 columns):\n",
      " #   Column                         Non-Null Count   Dtype         \n",
      "---  ------                         --------------   -----         \n",
      " 0   order_id                       117329 non-null  object        \n",
      " 1   customer_id                    117329 non-null  object        \n",
      " 2   order_status                   117329 non-null  object        \n",
      " 3   order_purchase_timestamp       117329 non-null  datetime64[ns]\n",
      " 4   customer_unique_id             117329 non-null  object        \n",
      " 5   customer_zip_code_prefix       117329 non-null  int64         \n",
      " 6   customer_city                  117329 non-null  object        \n",
      " 7   customer_state                 117329 non-null  object        \n",
      " 8   order_item_id                  117329 non-null  float64       \n",
      " 9   product_id                     117329 non-null  object        \n",
      " 10  seller_id                      117329 non-null  object        \n",
      " 11  price                          117329 non-null  float64       \n",
      " 12  freight_value                  117329 non-null  float64       \n",
      " 13  payment_sequential             117329 non-null  float64       \n",
      " 14  payment_type                   117329 non-null  object        \n",
      " 15  payment_installments           117329 non-null  float64       \n",
      " 16  payment_value                  117329 non-null  float64       \n",
      " 17  review_id                      117329 non-null  object        \n",
      " 18  review_score                   117329 non-null  float64       \n",
      " 19  seller_zip_code_prefix         117329 non-null  float64       \n",
      " 20  seller_city                    117329 non-null  object        \n",
      " 21  seller_state                   117329 non-null  object        \n",
      " 22  product_category_name_english  117329 non-null  object        \n",
      " 23  order_purchase_date            117329 non-null  datetime64[ns]\n",
      " 24  year                           117329 non-null  int32         \n",
      " 25  month                          117329 non-null  object        \n",
      " 26  day                            117329 non-null  int32         \n",
      " 27  hour                           117329 non-null  int32         \n",
      "dtypes: datetime64[ns](2), float64(8), int32(3), int64(1), object(14)\n",
      "memory usage: 24.6+ MB\n"
     ]
    }
   ],
   "source": [
    "df.info()"
   ]
  },
  {
   "cell_type": "code",
   "execution_count": 37,
   "metadata": {},
   "outputs": [
    {
     "data": {
      "text/html": [
       "<div>\n",
       "<style scoped>\n",
       "    .dataframe tbody tr th:only-of-type {\n",
       "        vertical-align: middle;\n",
       "    }\n",
       "\n",
       "    .dataframe tbody tr th {\n",
       "        vertical-align: top;\n",
       "    }\n",
       "\n",
       "    .dataframe thead th {\n",
       "        text-align: right;\n",
       "    }\n",
       "</style>\n",
       "<table border=\"1\" class=\"dataframe\">\n",
       "  <thead>\n",
       "    <tr style=\"text-align: right;\">\n",
       "      <th></th>\n",
       "      <th>order_purchase_timestamp</th>\n",
       "      <th>customer_zip_code_prefix</th>\n",
       "      <th>order_item_id</th>\n",
       "      <th>price</th>\n",
       "      <th>freight_value</th>\n",
       "      <th>payment_sequential</th>\n",
       "      <th>payment_installments</th>\n",
       "      <th>payment_value</th>\n",
       "      <th>review_score</th>\n",
       "      <th>seller_zip_code_prefix</th>\n",
       "      <th>order_purchase_date</th>\n",
       "      <th>year</th>\n",
       "      <th>day</th>\n",
       "      <th>hour</th>\n",
       "    </tr>\n",
       "  </thead>\n",
       "  <tbody>\n",
       "    <tr>\n",
       "      <th>count</th>\n",
       "      <td>117329</td>\n",
       "      <td>117329.000000</td>\n",
       "      <td>117329.000000</td>\n",
       "      <td>117329.000000</td>\n",
       "      <td>117329.000000</td>\n",
       "      <td>117329.000000</td>\n",
       "      <td>117329.000000</td>\n",
       "      <td>117329.000000</td>\n",
       "      <td>117329.000000</td>\n",
       "      <td>117329.000000</td>\n",
       "      <td>117329</td>\n",
       "      <td>117329.000000</td>\n",
       "      <td>117329.000000</td>\n",
       "      <td>117329.000000</td>\n",
       "    </tr>\n",
       "    <tr>\n",
       "      <th>mean</th>\n",
       "      <td>2017-12-30 10:29:39.749081600</td>\n",
       "      <td>35060.118112</td>\n",
       "      <td>1.194121</td>\n",
       "      <td>120.524349</td>\n",
       "      <td>20.027514</td>\n",
       "      <td>1.094452</td>\n",
       "      <td>2.940151</td>\n",
       "      <td>172.062565</td>\n",
       "      <td>4.031467</td>\n",
       "      <td>24450.781955</td>\n",
       "      <td>2017-12-30 09:59:37.601445632</td>\n",
       "      <td>2017.537591</td>\n",
       "      <td>15.553913</td>\n",
       "      <td>14.760272</td>\n",
       "    </tr>\n",
       "    <tr>\n",
       "      <th>min</th>\n",
       "      <td>2016-09-04 21:15:19</td>\n",
       "      <td>1003.000000</td>\n",
       "      <td>1.000000</td>\n",
       "      <td>0.850000</td>\n",
       "      <td>0.000000</td>\n",
       "      <td>1.000000</td>\n",
       "      <td>0.000000</td>\n",
       "      <td>0.000000</td>\n",
       "      <td>1.000000</td>\n",
       "      <td>1001.000000</td>\n",
       "      <td>2016-09-04 21:00:00</td>\n",
       "      <td>2016.000000</td>\n",
       "      <td>1.000000</td>\n",
       "      <td>0.000000</td>\n",
       "    </tr>\n",
       "    <tr>\n",
       "      <th>25%</th>\n",
       "      <td>2017-09-11 16:37:08</td>\n",
       "      <td>11250.000000</td>\n",
       "      <td>1.000000</td>\n",
       "      <td>39.900000</td>\n",
       "      <td>13.080000</td>\n",
       "      <td>1.000000</td>\n",
       "      <td>1.000000</td>\n",
       "      <td>60.750000</td>\n",
       "      <td>4.000000</td>\n",
       "      <td>6429.000000</td>\n",
       "      <td>2017-09-11 16:00:00</td>\n",
       "      <td>2017.000000</td>\n",
       "      <td>8.000000</td>\n",
       "      <td>11.000000</td>\n",
       "    </tr>\n",
       "    <tr>\n",
       "      <th>50%</th>\n",
       "      <td>2018-01-18 09:42:57</td>\n",
       "      <td>24240.000000</td>\n",
       "      <td>1.000000</td>\n",
       "      <td>74.900000</td>\n",
       "      <td>16.280000</td>\n",
       "      <td>1.000000</td>\n",
       "      <td>2.000000</td>\n",
       "      <td>108.100000</td>\n",
       "      <td>5.000000</td>\n",
       "      <td>13660.000000</td>\n",
       "      <td>2018-01-18 09:00:00</td>\n",
       "      <td>2018.000000</td>\n",
       "      <td>16.000000</td>\n",
       "      <td>15.000000</td>\n",
       "    </tr>\n",
       "    <tr>\n",
       "      <th>75%</th>\n",
       "      <td>2018-05-03 19:53:54</td>\n",
       "      <td>58770.000000</td>\n",
       "      <td>1.000000</td>\n",
       "      <td>134.900000</td>\n",
       "      <td>21.180000</td>\n",
       "      <td>1.000000</td>\n",
       "      <td>4.000000</td>\n",
       "      <td>189.060000</td>\n",
       "      <td>5.000000</td>\n",
       "      <td>28035.000000</td>\n",
       "      <td>2018-05-03 19:00:00</td>\n",
       "      <td>2018.000000</td>\n",
       "      <td>23.000000</td>\n",
       "      <td>19.000000</td>\n",
       "    </tr>\n",
       "    <tr>\n",
       "      <th>max</th>\n",
       "      <td>2018-09-03 09:06:57</td>\n",
       "      <td>99990.000000</td>\n",
       "      <td>21.000000</td>\n",
       "      <td>6735.000000</td>\n",
       "      <td>409.680000</td>\n",
       "      <td>29.000000</td>\n",
       "      <td>24.000000</td>\n",
       "      <td>13664.080000</td>\n",
       "      <td>5.000000</td>\n",
       "      <td>99730.000000</td>\n",
       "      <td>2018-09-03 09:00:00</td>\n",
       "      <td>2018.000000</td>\n",
       "      <td>31.000000</td>\n",
       "      <td>23.000000</td>\n",
       "    </tr>\n",
       "    <tr>\n",
       "      <th>std</th>\n",
       "      <td>NaN</td>\n",
       "      <td>29849.496175</td>\n",
       "      <td>0.684225</td>\n",
       "      <td>182.944843</td>\n",
       "      <td>15.828077</td>\n",
       "      <td>0.731174</td>\n",
       "      <td>2.775370</td>\n",
       "      <td>265.388194</td>\n",
       "      <td>1.387927</td>\n",
       "      <td>27582.364358</td>\n",
       "      <td>NaN</td>\n",
       "      <td>0.505092</td>\n",
       "      <td>8.664101</td>\n",
       "      <td>5.323261</td>\n",
       "    </tr>\n",
       "  </tbody>\n",
       "</table>\n",
       "</div>"
      ],
      "text/plain": [
       "            order_purchase_timestamp  customer_zip_code_prefix  order_item_id  \\\n",
       "count                         117329             117329.000000  117329.000000   \n",
       "mean   2017-12-30 10:29:39.749081600              35060.118112       1.194121   \n",
       "min              2016-09-04 21:15:19               1003.000000       1.000000   \n",
       "25%              2017-09-11 16:37:08              11250.000000       1.000000   \n",
       "50%              2018-01-18 09:42:57              24240.000000       1.000000   \n",
       "75%              2018-05-03 19:53:54              58770.000000       1.000000   \n",
       "max              2018-09-03 09:06:57              99990.000000      21.000000   \n",
       "std                              NaN              29849.496175       0.684225   \n",
       "\n",
       "               price  freight_value  payment_sequential  payment_installments  \\\n",
       "count  117329.000000  117329.000000       117329.000000         117329.000000   \n",
       "mean      120.524349      20.027514            1.094452              2.940151   \n",
       "min         0.850000       0.000000            1.000000              0.000000   \n",
       "25%        39.900000      13.080000            1.000000              1.000000   \n",
       "50%        74.900000      16.280000            1.000000              2.000000   \n",
       "75%       134.900000      21.180000            1.000000              4.000000   \n",
       "max      6735.000000     409.680000           29.000000             24.000000   \n",
       "std       182.944843      15.828077            0.731174              2.775370   \n",
       "\n",
       "       payment_value   review_score  seller_zip_code_prefix  \\\n",
       "count  117329.000000  117329.000000           117329.000000   \n",
       "mean      172.062565       4.031467            24450.781955   \n",
       "min         0.000000       1.000000             1001.000000   \n",
       "25%        60.750000       4.000000             6429.000000   \n",
       "50%       108.100000       5.000000            13660.000000   \n",
       "75%       189.060000       5.000000            28035.000000   \n",
       "max     13664.080000       5.000000            99730.000000   \n",
       "std       265.388194       1.387927            27582.364358   \n",
       "\n",
       "                 order_purchase_date           year            day  \\\n",
       "count                         117329  117329.000000  117329.000000   \n",
       "mean   2017-12-30 09:59:37.601445632    2017.537591      15.553913   \n",
       "min              2016-09-04 21:00:00    2016.000000       1.000000   \n",
       "25%              2017-09-11 16:00:00    2017.000000       8.000000   \n",
       "50%              2018-01-18 09:00:00    2018.000000      16.000000   \n",
       "75%              2018-05-03 19:00:00    2018.000000      23.000000   \n",
       "max              2018-09-03 09:00:00    2018.000000      31.000000   \n",
       "std                              NaN       0.505092       8.664101   \n",
       "\n",
       "                hour  \n",
       "count  117329.000000  \n",
       "mean       14.760272  \n",
       "min         0.000000  \n",
       "25%        11.000000  \n",
       "50%        15.000000  \n",
       "75%        19.000000  \n",
       "max        23.000000  \n",
       "std         5.323261  "
      ]
     },
     "execution_count": 37,
     "metadata": {},
     "output_type": "execute_result"
    }
   ],
   "source": [
    "df.describe()"
   ]
  },
  {
   "cell_type": "code",
   "execution_count": 38,
   "metadata": {},
   "outputs": [
    {
     "data": {
      "text/html": [
       "<div>\n",
       "<style scoped>\n",
       "    .dataframe tbody tr th:only-of-type {\n",
       "        vertical-align: middle;\n",
       "    }\n",
       "\n",
       "    .dataframe tbody tr th {\n",
       "        vertical-align: top;\n",
       "    }\n",
       "\n",
       "    .dataframe thead th {\n",
       "        text-align: right;\n",
       "    }\n",
       "</style>\n",
       "<table border=\"1\" class=\"dataframe\">\n",
       "  <thead>\n",
       "    <tr style=\"text-align: right;\">\n",
       "      <th></th>\n",
       "      <th>order_id</th>\n",
       "      <th>customer_id</th>\n",
       "      <th>order_status</th>\n",
       "      <th>customer_unique_id</th>\n",
       "      <th>customer_city</th>\n",
       "      <th>customer_state</th>\n",
       "      <th>product_id</th>\n",
       "      <th>seller_id</th>\n",
       "      <th>payment_type</th>\n",
       "      <th>review_id</th>\n",
       "      <th>seller_city</th>\n",
       "      <th>seller_state</th>\n",
       "      <th>product_category_name_english</th>\n",
       "      <th>month</th>\n",
       "    </tr>\n",
       "  </thead>\n",
       "  <tbody>\n",
       "    <tr>\n",
       "      <th>count</th>\n",
       "      <td>117329</td>\n",
       "      <td>117329</td>\n",
       "      <td>117329</td>\n",
       "      <td>117329</td>\n",
       "      <td>117329</td>\n",
       "      <td>117329</td>\n",
       "      <td>117329</td>\n",
       "      <td>117329</td>\n",
       "      <td>117329</td>\n",
       "      <td>117329</td>\n",
       "      <td>117329</td>\n",
       "      <td>117329</td>\n",
       "      <td>117329</td>\n",
       "      <td>117329</td>\n",
       "    </tr>\n",
       "    <tr>\n",
       "      <th>unique</th>\n",
       "      <td>97916</td>\n",
       "      <td>97916</td>\n",
       "      <td>7</td>\n",
       "      <td>94720</td>\n",
       "      <td>4108</td>\n",
       "      <td>27</td>\n",
       "      <td>32789</td>\n",
       "      <td>3090</td>\n",
       "      <td>4</td>\n",
       "      <td>97708</td>\n",
       "      <td>611</td>\n",
       "      <td>23</td>\n",
       "      <td>74</td>\n",
       "      <td>12</td>\n",
       "    </tr>\n",
       "    <tr>\n",
       "      <th>top</th>\n",
       "      <td>895ab968e7bb0d5659d16cd74cd1650c</td>\n",
       "      <td>270c23a11d024a44c896d1894b261a83</td>\n",
       "      <td>delivered</td>\n",
       "      <td>9a736b248f67d166d2fbb006bcb877c3</td>\n",
       "      <td>sao paulo</td>\n",
       "      <td>SP</td>\n",
       "      <td>aca2eb7d00ea1a7b8ebd4e68314663af</td>\n",
       "      <td>4a3ca9315b744ce9f8e9374361493884</td>\n",
       "      <td>credit_card</td>\n",
       "      <td>eef5dbca8d37dfce6db7d7b16dd0525e</td>\n",
       "      <td>sao paulo</td>\n",
       "      <td>SP</td>\n",
       "      <td>bed_bath_table</td>\n",
       "      <td>Aug</td>\n",
       "    </tr>\n",
       "    <tr>\n",
       "      <th>freq</th>\n",
       "      <td>63</td>\n",
       "      <td>63</td>\n",
       "      <td>114859</td>\n",
       "      <td>75</td>\n",
       "      <td>18582</td>\n",
       "      <td>49527</td>\n",
       "      <td>533</td>\n",
       "      <td>2128</td>\n",
       "      <td>86520</td>\n",
       "      <td>63</td>\n",
       "      <td>29048</td>\n",
       "      <td>83671</td>\n",
       "      <td>11847</td>\n",
       "      <td>12597</td>\n",
       "    </tr>\n",
       "  </tbody>\n",
       "</table>\n",
       "</div>"
      ],
      "text/plain": [
       "                                order_id                       customer_id  \\\n",
       "count                             117329                            117329   \n",
       "unique                             97916                             97916   \n",
       "top     895ab968e7bb0d5659d16cd74cd1650c  270c23a11d024a44c896d1894b261a83   \n",
       "freq                                  63                                63   \n",
       "\n",
       "       order_status                customer_unique_id customer_city  \\\n",
       "count        117329                            117329        117329   \n",
       "unique            7                             94720          4108   \n",
       "top       delivered  9a736b248f67d166d2fbb006bcb877c3     sao paulo   \n",
       "freq         114859                                75         18582   \n",
       "\n",
       "       customer_state                        product_id  \\\n",
       "count          117329                            117329   \n",
       "unique             27                             32789   \n",
       "top                SP  aca2eb7d00ea1a7b8ebd4e68314663af   \n",
       "freq            49527                               533   \n",
       "\n",
       "                               seller_id payment_type  \\\n",
       "count                             117329       117329   \n",
       "unique                              3090            4   \n",
       "top     4a3ca9315b744ce9f8e9374361493884  credit_card   \n",
       "freq                                2128        86520   \n",
       "\n",
       "                               review_id seller_city seller_state  \\\n",
       "count                             117329      117329       117329   \n",
       "unique                             97708         611           23   \n",
       "top     eef5dbca8d37dfce6db7d7b16dd0525e   sao paulo           SP   \n",
       "freq                                  63       29048        83671   \n",
       "\n",
       "       product_category_name_english   month  \n",
       "count                         117329  117329  \n",
       "unique                            74      12  \n",
       "top                   bed_bath_table     Aug  \n",
       "freq                           11847   12597  "
      ]
     },
     "execution_count": 38,
     "metadata": {},
     "output_type": "execute_result"
    }
   ],
   "source": [
    "df.describe(include=\"object\")"
   ]
  },
  {
   "cell_type": "markdown",
   "metadata": {},
   "source": [
    "# 2. Data Understanding"
   ]
  },
  {
   "cell_type": "markdown",
   "metadata": {},
   "source": [
    "The target variable is the customer review score, which ranges from 1 to 5. For binary classification, we will transform this into:\n",
    "* Positive review: review_score ≥ 4\n",
    "\n",
    "* Negative review: review_score < 4"
   ]
  },
  {
   "cell_type": "code",
   "execution_count": 39,
   "metadata": {},
   "outputs": [
    {
     "data": {
      "text/html": [
       "<div>\n",
       "<style scoped>\n",
       "    .dataframe tbody tr th:only-of-type {\n",
       "        vertical-align: middle;\n",
       "    }\n",
       "\n",
       "    .dataframe tbody tr th {\n",
       "        vertical-align: top;\n",
       "    }\n",
       "\n",
       "    .dataframe thead th {\n",
       "        text-align: right;\n",
       "    }\n",
       "</style>\n",
       "<table border=\"1\" class=\"dataframe\">\n",
       "  <thead>\n",
       "    <tr style=\"text-align: right;\">\n",
       "      <th></th>\n",
       "      <th>dataFeatures</th>\n",
       "      <th>dataType</th>\n",
       "      <th>null</th>\n",
       "      <th>nullPct</th>\n",
       "      <th>unique</th>\n",
       "      <th>uniqueSample</th>\n",
       "    </tr>\n",
       "  </thead>\n",
       "  <tbody>\n",
       "    <tr>\n",
       "      <th>0</th>\n",
       "      <td>order_id</td>\n",
       "      <td>object</td>\n",
       "      <td>0</td>\n",
       "      <td>0.0</td>\n",
       "      <td>97916</td>\n",
       "      <td>[62dedcd31d4b3c43f9adbab2d7fd84d4, 302e35ab075...</td>\n",
       "    </tr>\n",
       "    <tr>\n",
       "      <th>1</th>\n",
       "      <td>customer_id</td>\n",
       "      <td>object</td>\n",
       "      <td>0</td>\n",
       "      <td>0.0</td>\n",
       "      <td>97916</td>\n",
       "      <td>[3a3091df564663f3de7a01b0b200411c, 78eb3573400...</td>\n",
       "    </tr>\n",
       "    <tr>\n",
       "      <th>2</th>\n",
       "      <td>order_status</td>\n",
       "      <td>object</td>\n",
       "      <td>0</td>\n",
       "      <td>0.0</td>\n",
       "      <td>7</td>\n",
       "      <td>[shipped, unavailable]</td>\n",
       "    </tr>\n",
       "    <tr>\n",
       "      <th>3</th>\n",
       "      <td>order_purchase_timestamp</td>\n",
       "      <td>datetime64[ns]</td>\n",
       "      <td>0</td>\n",
       "      <td>0.0</td>\n",
       "      <td>97370</td>\n",
       "      <td>[2017-10-30T08:21:05.000000000, 2017-10-16T01:...</td>\n",
       "    </tr>\n",
       "    <tr>\n",
       "      <th>4</th>\n",
       "      <td>customer_unique_id</td>\n",
       "      <td>object</td>\n",
       "      <td>0</td>\n",
       "      <td>0.0</td>\n",
       "      <td>94720</td>\n",
       "      <td>[94455e746448ebe1bd292caa179c16ef, f686ca196bf...</td>\n",
       "    </tr>\n",
       "    <tr>\n",
       "      <th>5</th>\n",
       "      <td>customer_zip_code_prefix</td>\n",
       "      <td>int64</td>\n",
       "      <td>0</td>\n",
       "      <td>0.0</td>\n",
       "      <td>14955</td>\n",
       "      <td>[79823, 18703]</td>\n",
       "    </tr>\n",
       "    <tr>\n",
       "      <th>6</th>\n",
       "      <td>customer_city</td>\n",
       "      <td>object</td>\n",
       "      <td>0</td>\n",
       "      <td>0.0</td>\n",
       "      <td>4108</td>\n",
       "      <td>[nepomuceno, fagundes]</td>\n",
       "    </tr>\n",
       "    <tr>\n",
       "      <th>7</th>\n",
       "      <td>customer_state</td>\n",
       "      <td>object</td>\n",
       "      <td>0</td>\n",
       "      <td>0.0</td>\n",
       "      <td>27</td>\n",
       "      <td>[RN, MG]</td>\n",
       "    </tr>\n",
       "    <tr>\n",
       "      <th>8</th>\n",
       "      <td>order_item_id</td>\n",
       "      <td>float64</td>\n",
       "      <td>0</td>\n",
       "      <td>0.0</td>\n",
       "      <td>21</td>\n",
       "      <td>[18.0, 19.0]</td>\n",
       "    </tr>\n",
       "    <tr>\n",
       "      <th>9</th>\n",
       "      <td>product_id</td>\n",
       "      <td>object</td>\n",
       "      <td>0</td>\n",
       "      <td>0.0</td>\n",
       "      <td>32789</td>\n",
       "      <td>[90b8a54ccc8372ea12573a7fd3312c33, a4aa7c1427c...</td>\n",
       "    </tr>\n",
       "    <tr>\n",
       "      <th>10</th>\n",
       "      <td>seller_id</td>\n",
       "      <td>object</td>\n",
       "      <td>0</td>\n",
       "      <td>0.0</td>\n",
       "      <td>3090</td>\n",
       "      <td>[a6bd7d1ccdac48c6b33b28596b7eb122, 53d00c40e32...</td>\n",
       "    </tr>\n",
       "    <tr>\n",
       "      <th>11</th>\n",
       "      <td>price</td>\n",
       "      <td>float64</td>\n",
       "      <td>0</td>\n",
       "      <td>0.0</td>\n",
       "      <td>5948</td>\n",
       "      <td>[37.95, 36.6]</td>\n",
       "    </tr>\n",
       "    <tr>\n",
       "      <th>12</th>\n",
       "      <td>freight_value</td>\n",
       "      <td>float64</td>\n",
       "      <td>0</td>\n",
       "      <td>0.0</td>\n",
       "      <td>6976</td>\n",
       "      <td>[60.07, 39.22]</td>\n",
       "    </tr>\n",
       "    <tr>\n",
       "      <th>13</th>\n",
       "      <td>payment_sequential</td>\n",
       "      <td>float64</td>\n",
       "      <td>0</td>\n",
       "      <td>0.0</td>\n",
       "      <td>29</td>\n",
       "      <td>[27.0, 20.0]</td>\n",
       "    </tr>\n",
       "    <tr>\n",
       "      <th>14</th>\n",
       "      <td>payment_type</td>\n",
       "      <td>object</td>\n",
       "      <td>0</td>\n",
       "      <td>0.0</td>\n",
       "      <td>4</td>\n",
       "      <td>[debit_card, voucher]</td>\n",
       "    </tr>\n",
       "    <tr>\n",
       "      <th>15</th>\n",
       "      <td>payment_installments</td>\n",
       "      <td>float64</td>\n",
       "      <td>0</td>\n",
       "      <td>0.0</td>\n",
       "      <td>24</td>\n",
       "      <td>[23.0, 12.0]</td>\n",
       "    </tr>\n",
       "    <tr>\n",
       "      <th>16</th>\n",
       "      <td>payment_value</td>\n",
       "      <td>float64</td>\n",
       "      <td>0</td>\n",
       "      <td>0.0</td>\n",
       "      <td>28831</td>\n",
       "      <td>[143.56, 295.71]</td>\n",
       "    </tr>\n",
       "    <tr>\n",
       "      <th>17</th>\n",
       "      <td>review_id</td>\n",
       "      <td>object</td>\n",
       "      <td>0</td>\n",
       "      <td>0.0</td>\n",
       "      <td>97708</td>\n",
       "      <td>[0a98b06d6eeb6ebeb164912a52a0c688, 4662eacff6d...</td>\n",
       "    </tr>\n",
       "    <tr>\n",
       "      <th>18</th>\n",
       "      <td>review_score</td>\n",
       "      <td>float64</td>\n",
       "      <td>0</td>\n",
       "      <td>0.0</td>\n",
       "      <td>5</td>\n",
       "      <td>[3.0, 1.0]</td>\n",
       "    </tr>\n",
       "    <tr>\n",
       "      <th>19</th>\n",
       "      <td>seller_zip_code_prefix</td>\n",
       "      <td>float64</td>\n",
       "      <td>0</td>\n",
       "      <td>0.0</td>\n",
       "      <td>2245</td>\n",
       "      <td>[90640.0, 13806.0]</td>\n",
       "    </tr>\n",
       "    <tr>\n",
       "      <th>20</th>\n",
       "      <td>seller_city</td>\n",
       "      <td>object</td>\n",
       "      <td>0</td>\n",
       "      <td>0.0</td>\n",
       "      <td>611</td>\n",
       "      <td>[taruma, mogi guacu]</td>\n",
       "    </tr>\n",
       "    <tr>\n",
       "      <th>21</th>\n",
       "      <td>seller_state</td>\n",
       "      <td>object</td>\n",
       "      <td>0</td>\n",
       "      <td>0.0</td>\n",
       "      <td>23</td>\n",
       "      <td>[MG, GO]</td>\n",
       "    </tr>\n",
       "    <tr>\n",
       "      <th>22</th>\n",
       "      <td>product_category_name_english</td>\n",
       "      <td>object</td>\n",
       "      <td>0</td>\n",
       "      <td>0.0</td>\n",
       "      <td>74</td>\n",
       "      <td>[home_comfort_2, fashion_underwear_beach]</td>\n",
       "    </tr>\n",
       "    <tr>\n",
       "      <th>23</th>\n",
       "      <td>order_purchase_date</td>\n",
       "      <td>datetime64[ns]</td>\n",
       "      <td>0</td>\n",
       "      <td>0.0</td>\n",
       "      <td>12065</td>\n",
       "      <td>[2017-02-07T10:00:00.000000000, 2018-03-09T01:...</td>\n",
       "    </tr>\n",
       "    <tr>\n",
       "      <th>24</th>\n",
       "      <td>year</td>\n",
       "      <td>int32</td>\n",
       "      <td>0</td>\n",
       "      <td>0.0</td>\n",
       "      <td>3</td>\n",
       "      <td>[2016, 2017]</td>\n",
       "    </tr>\n",
       "    <tr>\n",
       "      <th>25</th>\n",
       "      <td>month</td>\n",
       "      <td>object</td>\n",
       "      <td>0</td>\n",
       "      <td>0.0</td>\n",
       "      <td>12</td>\n",
       "      <td>[Jul, May]</td>\n",
       "    </tr>\n",
       "    <tr>\n",
       "      <th>26</th>\n",
       "      <td>day</td>\n",
       "      <td>int32</td>\n",
       "      <td>0</td>\n",
       "      <td>0.0</td>\n",
       "      <td>31</td>\n",
       "      <td>[2, 3]</td>\n",
       "    </tr>\n",
       "    <tr>\n",
       "      <th>27</th>\n",
       "      <td>hour</td>\n",
       "      <td>int32</td>\n",
       "      <td>0</td>\n",
       "      <td>0.0</td>\n",
       "      <td>24</td>\n",
       "      <td>[8, 19]</td>\n",
       "    </tr>\n",
       "  </tbody>\n",
       "</table>\n",
       "</div>"
      ],
      "text/plain": [
       "                     dataFeatures        dataType  null  nullPct  unique  \\\n",
       "0                        order_id          object     0      0.0   97916   \n",
       "1                     customer_id          object     0      0.0   97916   \n",
       "2                    order_status          object     0      0.0       7   \n",
       "3        order_purchase_timestamp  datetime64[ns]     0      0.0   97370   \n",
       "4              customer_unique_id          object     0      0.0   94720   \n",
       "5        customer_zip_code_prefix           int64     0      0.0   14955   \n",
       "6                   customer_city          object     0      0.0    4108   \n",
       "7                  customer_state          object     0      0.0      27   \n",
       "8                   order_item_id         float64     0      0.0      21   \n",
       "9                      product_id          object     0      0.0   32789   \n",
       "10                      seller_id          object     0      0.0    3090   \n",
       "11                          price         float64     0      0.0    5948   \n",
       "12                  freight_value         float64     0      0.0    6976   \n",
       "13             payment_sequential         float64     0      0.0      29   \n",
       "14                   payment_type          object     0      0.0       4   \n",
       "15           payment_installments         float64     0      0.0      24   \n",
       "16                  payment_value         float64     0      0.0   28831   \n",
       "17                      review_id          object     0      0.0   97708   \n",
       "18                   review_score         float64     0      0.0       5   \n",
       "19         seller_zip_code_prefix         float64     0      0.0    2245   \n",
       "20                    seller_city          object     0      0.0     611   \n",
       "21                   seller_state          object     0      0.0      23   \n",
       "22  product_category_name_english          object     0      0.0      74   \n",
       "23            order_purchase_date  datetime64[ns]     0      0.0   12065   \n",
       "24                           year           int32     0      0.0       3   \n",
       "25                          month          object     0      0.0      12   \n",
       "26                            day           int32     0      0.0      31   \n",
       "27                           hour           int32     0      0.0      24   \n",
       "\n",
       "                                         uniqueSample  \n",
       "0   [62dedcd31d4b3c43f9adbab2d7fd84d4, 302e35ab075...  \n",
       "1   [3a3091df564663f3de7a01b0b200411c, 78eb3573400...  \n",
       "2                              [shipped, unavailable]  \n",
       "3   [2017-10-30T08:21:05.000000000, 2017-10-16T01:...  \n",
       "4   [94455e746448ebe1bd292caa179c16ef, f686ca196bf...  \n",
       "5                                      [79823, 18703]  \n",
       "6                              [nepomuceno, fagundes]  \n",
       "7                                            [RN, MG]  \n",
       "8                                        [18.0, 19.0]  \n",
       "9   [90b8a54ccc8372ea12573a7fd3312c33, a4aa7c1427c...  \n",
       "10  [a6bd7d1ccdac48c6b33b28596b7eb122, 53d00c40e32...  \n",
       "11                                      [37.95, 36.6]  \n",
       "12                                     [60.07, 39.22]  \n",
       "13                                       [27.0, 20.0]  \n",
       "14                              [debit_card, voucher]  \n",
       "15                                       [23.0, 12.0]  \n",
       "16                                   [143.56, 295.71]  \n",
       "17  [0a98b06d6eeb6ebeb164912a52a0c688, 4662eacff6d...  \n",
       "18                                         [3.0, 1.0]  \n",
       "19                                 [90640.0, 13806.0]  \n",
       "20                               [taruma, mogi guacu]  \n",
       "21                                           [MG, GO]  \n",
       "22          [home_comfort_2, fashion_underwear_beach]  \n",
       "23  [2017-02-07T10:00:00.000000000, 2018-03-09T01:...  \n",
       "24                                       [2016, 2017]  \n",
       "25                                         [Jul, May]  \n",
       "26                                             [2, 3]  \n",
       "27                                            [8, 19]  "
      ]
     },
     "execution_count": 39,
     "metadata": {},
     "output_type": "execute_result"
    }
   ],
   "source": [
    "listItem = []\n",
    "for col in df.columns :\n",
    "    listItem.append([col, df[col].dtype, df[col].isna().sum(), round((df[col].isna().sum()/len(df[col])) * 100,2),\n",
    "                    df[col].nunique(), list(df[col].drop_duplicates().sample(2).values)]);\n",
    "\n",
    "dfDesc = pd.DataFrame(columns=['dataFeatures', 'dataType', 'null', 'nullPct', 'unique', 'uniqueSample'],\n",
    "                     data=listItem)\n",
    "dfDesc"
   ]
  },
  {
   "cell_type": "code",
   "execution_count": 42,
   "metadata": {},
   "outputs": [],
   "source": [
    "main_df = df.drop(axis=1,\n",
    "columns=['order_id','customer_id','customer_unique_id','order_item_id','product_id','review_id', 'order_purchase_timestamp', 'customer_zip_code_prefix', 'seller_id', 'seller_zip_code_prefix', ])"
   ]
  },
  {
   "cell_type": "code",
   "execution_count": 43,
   "metadata": {},
   "outputs": [],
   "source": [
    "main_df.to_csv('main_df')"
   ]
  },
  {
   "cell_type": "code",
   "execution_count": 44,
   "metadata": {},
   "outputs": [
    {
     "data": {
      "text/plain": [
       "order_status                     0\n",
       "customer_city                    0\n",
       "customer_state                   0\n",
       "price                            0\n",
       "freight_value                    0\n",
       "payment_sequential               0\n",
       "payment_type                     0\n",
       "payment_installments             0\n",
       "payment_value                    0\n",
       "review_score                     0\n",
       "seller_city                      0\n",
       "seller_state                     0\n",
       "product_category_name_english    0\n",
       "order_purchase_date              0\n",
       "year                             0\n",
       "month                            0\n",
       "day                              0\n",
       "hour                             0\n",
       "dtype: int64"
      ]
     },
     "execution_count": 44,
     "metadata": {},
     "output_type": "execute_result"
    }
   ],
   "source": [
    "main_df.isna().sum()"
   ]
  },
  {
   "cell_type": "markdown",
   "metadata": {},
   "source": [
    "eda\n",
    "univariate, bivariate (sebelum heatmap)"
   ]
  },
  {
   "cell_type": "markdown",
   "metadata": {},
   "source": [
    "taro boxplot dll masing2"
   ]
  },
  {
   "cell_type": "code",
   "execution_count": 46,
   "metadata": {},
   "outputs": [
    {
     "name": "stderr",
     "output_type": "stream",
     "text": [
      "/opt/anaconda3/lib/python3.12/site-packages/dython/nominal.py:632: FutureWarning: Series.view is deprecated and will be removed in a future version. Use ``astype`` as an alternative to change the dtype.\n",
      "  lambda col: col.view(np.int64), axis=0\n"
     ]
    },
    {
     "data": {
      "image/png": "[encoded data removed]",
      "text/plain": [
       "<Figure size 2000x2000 with 2 Axes>"
      ]
     },
     "metadata": {},
     "output_type": "display_data"
    }
   ],
   "source": [
    "import matplotlib.pyplot as plt\n",
    "from dython.nominal import associations\n",
    "complete_correlation = associations(\n",
    "    main_df,\n",
    "    cmap='rocket',\n",
    "    title='Correlation Categorical and Numerical',\n",
    "    figsize=(20,20),\n",
    "    annot=True\n",
    ")\n",
    "\n",
    "correlation_matrix = complete_correlation['corr']\n",
    "plt.show()"
   ]
  },
  {
   "cell_type": "markdown",
   "metadata": {},
   "source": [
    "outlier cleaning"
   ]
  },
  {
   "cell_type": "markdown",
   "metadata": {},
   "source": [
    "Data preprocessing"
   ]
  },
  {
   "cell_type": "markdown",
   "metadata": {},
   "source": [
    "bikin kolom RFM"
   ]
  },
  {
   "cell_type": "markdown",
   "metadata": {},
   "source": [
    "Modelling"
   ]
  },
  {
   "cell_type": "markdown",
   "metadata": {},
   "source": [
    "elbow score"
   ]
  },
  {
   "cell_type": "markdown",
   "metadata": {},
   "source": [
    "Silhoutte score"
   ]
  },
  {
   "cell_type": "markdown",
   "metadata": {},
   "source": [
    "k means, dbscan, PCA"
   ]
  },
  {
   "cell_type": "markdown",
   "metadata": {},
   "source": [
    "cost efficiency"
   ]
  },
  {
   "cell_type": "markdown",
   "metadata": {},
   "source": [
    "conclusion and recommendation"
   ]
  }
 ],
 "metadata": {
  "kernelspec": {
   "display_name": "base",
   "language": "python",
   "name": "python3"
  },
  "language_info": {
   "codemirror_mode": {
    "name": "ipython",
    "version": 3
   },
   "file_extension": ".py",
   "mimetype": "text/x-python",
   "name": "python",
   "nbconvert_exporter": "python",
   "pygments_lexer": "ipython3",
   "version": "3.12.4"
  }
 },
 "nbformat": 4,
 "nbformat_minor": 2
}
