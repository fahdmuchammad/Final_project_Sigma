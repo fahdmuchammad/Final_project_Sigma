{
 "cells": [
  {
   "cell_type": "markdown",
   "metadata": {},
   "source": [
    "# Brazillian Ecommerce, Olist Dataset"
   ]
  },
  {
   "cell_type": "markdown",
   "metadata": {},
   "source": [
    "test markdown"
   ]
  },
  {
   "cell_type": "markdown",
   "metadata": {},
   "source": [
    "## Context\n",
    "This is a Brazilian ecommerce public dataset of orders made at Olist Store.  The dataset has information of 100k orders from 2016 to 2018 made at multiple marketplaces in Brazil. Its features allow viewing an order from multiple dimensions: from order status, price, payment and freight performance to customer location, product attributes and finally reviews written by customers. They also released a geolocation dataset that relates Brazilian zip codes to lat/lng coordinates.\n",
    "\n",
    "\n",
    "This is real commercial data, it has been anonymised, and references to the companies and partners in the review text have been replaced with the names of Game of Thrones great houses.\n",
    "\n",
    "Olist connects small businesses from all over Brazil to channels without hassle and with a single contract. Those merchants are able to sell their products through the Olist Store and ship them directly to the customers using Olist logistics partners. See more on our website: www.olist.com\n",
    "\n",
    "After a customer purchases the product from Olist Store a seller gets notified to fulfill that order. Once the customer receives the product, or the estimated delivery date is due, the customer gets a satisfaction survey by email where he can give a note for the purchase experience and write down some comments.\n",
    "\n",
    "*Notes*\n",
    "\n",
    "1. An order might have multiple items.\n",
    "2. Each item might be fulfilled by a distinct seller.\n",
    "3. All text identifying stores and partners where replaced by the names of Game of Thrones great houses.\n",
    "\n",
    "## Features\n",
    "\n",
    "The dataset contains a variety of features from different aspects of the transactions within the marketplace, including customer information, product details, payment methods, and review scores. Here’s a list of the key columns available in the dataset:\n",
    "\n",
    "* `customer_id`: Unique identifier for each customer.\n",
    "* `customer_unique_id`: A secondary identifier for customers that allows you to identify customers who made repurchases at the store.\n",
    "* `customer_zip_code_prefix`: Zip code prefix for the customer’s location.\n",
    "* `customer_city`: City where the customer is located.\n",
    "* `customer_state`: State where the customer is located.\n",
    "* `order_id`: Unique identifier for each order placed by the customer.\n",
    "* `order_status`: The current status of the order (e.g., shipped, delivered, cancelled).\n",
    "* `order_purchase_timestamp`: Timestamp when the order was placed.\n",
    "* `order_approved_at`: Timestamp when the order was approved.\n",
    "* `order_delivered_carrier_date`: Date when the order was delivered to the carrier.\n",
    "* `order_delivered_customer_date`: Date when the order was delivered to the customer.\n",
    "* `order_estimated_delivery_date`: Estimated date for the order to be delivered to the customer.\n",
    "* `review_id`: Unique identifier for each review provided by the customer.\n",
    "* `review_score`: Rating score (1 to 5) provided by the customer for the product.\n",
    "* `review_comment_title`: Title of the product review.\n",
    "* `review_comment_message`: Content or message provided in the product review.\n",
    "* `review_creation_date`: Date when the review was created.\n",
    "* `review_answer_timestamp`: Timestamp when the review was answered (if applicable).\n",
    "* `order_item_id`: Unique identifier for the item in the order.\n",
    "* `product_id`: Unique identifier for the product ordered.\n",
    "* `seller_id`: Unique identifier for the seller.\n",
    "* `shipping_limit_date`: The last date for shipping the order.\n",
    "* `price`: Price of the product in the order.\n",
    "* `freight_value`: Shipping cost for the order.\n",
    "* `payment_sequential`: Sequential number for installment payments in the order.\n",
    "* `payment_type`: Type of payment used by the customer (e.g., credit card, boleto).\n",
    "* `payment_installments`: Number of installments used in the payment.\n",
    "* `payment_value`: Total value of the payment made by the customer.\n",
    "* `product_category_name`: Category of the product purchased.\n",
    "* `product_name_length`: Length of the product name (in characters).\n",
    "* `product_description_length`: Length of the product description (in characters).\n",
    "* `product_photos_qty`: Quantity of photos available for the product.\n",
    "* `product_weight_g`: Weight of the product in grams.\n",
    "* `product_length_cm`: Length of the product in centimeters.\n",
    "* `product_height_cm`: Height of the product in centimeters.\n",
    "* `product_width_cm`: Width of the product in centimeters.\n",
    "* `seller_zip_code_prefix`: Zip code prefix of the seller's location.\n",
    "* `seller_city`: City where the seller is located.\n",
    "* `seller_state`: State where the seller is located.\n",
    "* `geolocation_zip_code_prefix`: Zip code prefix for the seller's geolocation.\n",
    "* `geolocation_lat`: Latitude of the seller's location.\n",
    "* `geolocation_lng`: Longitude of the seller's location.\n",
    "* `geolocation_city`: City where the seller's geolocation is located.\n",
    "* `geolocation_state`: State where the seller's geolocation is located.\n",
    "* `product_category_name_english`: English translation of the product category name.***\n",
    "\n",
    "\n",
    "## Acknowledgments\n",
    "Thanks to Olist for releasing this dataset.\n",
    "\n",
    "## Contents\n",
    "1. Business Problem Understanding\n",
    "2. Data Understanding\n",
    "3. Data Preprocessing\n",
    "4. Modeling\n",
    "5. Conclusion\n",
    "6. Recommendation"
   ]
  },
  {
   "cell_type": "markdown",
   "metadata": {},
   "source": [
    "# 1. Business Problem Understanding\n",
    "\n",
    "**Context**\n",
    "\n",
    "This dataset contains transactional data from the Olist marketplace, an e-commerce platform in Brazil. It includes a variety of features related to customer behavior, product information, order details, payment methods, shipping costs, and review scores. The dataset provides valuable insights into online purchases, customer satisfaction, and product performance, making it an excellent resource for understanding e-commerce dynamics.\n",
    "\n",
    "**Background**\n",
    "\n",
    "- Better Understanding of Customer Needs -> penempatan penyebaran produk (gudang/seller)\n",
    "- Improved Targeting and Efficient Resource Allocation -> promosi tepat sasaran\n",
    "- Personalized Marketing -> crm (customer relationship marketing)\n",
    "\n",
    "**Problem Statement**\n",
    "\n",
    "Customer satisfaction is a critical factor in the success of any e-commerce business. Unsatisfied customers are less likely to return, leading to reduced customer retention and revenue. Predicting whether a customer will leave a positive or negative review based on their order details and interactions can help businesses proactively address issues, improve customer experience, and increase retention.\n",
    "=> Bagaimana perilaku customer di tiap segmentasi untuk membuat marketing yang lebih terpersonalisasi dan tepat sasaran.\n",
    "\n",
    "**Goals**\n",
    "\n",
    "The goal of this project is to predict customer satisfaction, as measured by the review_score, using features such as order details, product characteristics, payment methods, and customer demographics. By analyzing these features, we aim to:\n",
    "\n",
    "* Predict whether a customer will leave a positive (review_score ≥ 4) or negative (review_score < 4) review.\n",
    "\n",
    "* Identify key factors that influence customer satisfaction.\n",
    "\n",
    "* Provide actionable insights to improve customer experience and reduce negative reviews.\n",
    "\n",
    "**Stakeholders**\n",
    "\n",
    "* Business Owners and Managers: They want to improve customer satisfaction and retention to drive long-term revenue growth.\n",
    "\n",
    "* Customer Support Teams: They need insights to address customer complaints and improve service quality.\n",
    "\n",
    "* Product Managers: They want to understand how product characteristics (e.g., category, photos, description) impact customer satisfaction.\n",
    "\n",
    "* Marketing Teams: They aim to target dissatisfied customers with personalized offers or campaigns to improve their experience.\n",
    "\n",
    "* Data Science Team: Responsible for developing and deploying the predictive model to classify customer satisfaction.\n",
    "\n",
    "**Analytical Approach**\n",
    "\n",
    "We will begin by exploring the dataset to understand the relationship between customer satisfaction (review_score) and features such as order details, product characteristics, payment methods, and customer demographics. Next, we will preprocess the data by handling missing values, encoding categorical variables, and creating new features (e.g., delivery time, order processing time). Once the data is cleaned, we will build a binary classification model to predict whether a customer will leave a positive or negative review. The model will help businesses identify dissatisfied customers and take proactive measures to improve their experience.\n",
    "\n",
    "**Business Metrics**\n",
    "\n",
    "The success of this project will be measured by the following metrics:\n",
    "\n",
    "* Customer Satisfaction Rate: Percentage of customers who leave positive reviews (review_score ≥ 4).\n",
    "\n",
    "* Negative Review Reduction Rate: Reduction in the percentage of negative reviews over time.\n",
    "\n",
    "* Customer Retention Rate: Percentage of customers who make repeat purchases after receiving targeted interventions.\n",
    "\n",
    "* Model Accuracy: The ability of the model to correctly classify positive and negative reviews.\n",
    "\n",
    "**Metric Evaluation**\n",
    "\n",
    "The evaluation metrics for this project include:\n",
    "\n",
    "* Accuracy: Measures the percentage of correct predictions in the classification model.\n",
    "\n",
    "* Precision and Recall: Precision measures the percentage of correctly predicted positive reviews, while recall measures the percentage of actual positive reviews correctly identified.\n",
    "\n",
    "* F1-Score: Harmonic mean of precision and recall, useful for imbalanced datasets.\n",
    "\n",
    "* AUC-ROC (Area Under the Curve - Receiver Operating Characteristics): Evaluates the model's ability to distinguish between positive and negative reviews.\n",
    "\n",
    "By focusing on these goals and metrics, this project aims to provide actionable insights that can help businesses improve customer satisfaction, reduce negative reviews, and increase customer retention.\n"
   ]
  },
  {
   "cell_type": "code",
   "execution_count": 1,
   "metadata": {},
   "outputs": [],
   "source": [
    "import pandas as pd"
   ]
  },
  {
   "cell_type": "code",
   "execution_count": 2,
   "metadata": {},
   "outputs": [],
   "source": [
    "# Load dataset\n",
    "\n",
    "customers_df = pd.read_csv('olist_customers_dataset.csv')\n",
    "items_df = pd.read_csv('olist_order_items_dataset.csv')\n",
    "payments_df = pd.read_csv('olist_order_payments_dataset.csv')\n",
    "reviews_df = pd.read_csv('olist_order_reviews_dataset.csv')\n",
    "orders_df = pd.read_csv('olist_orders_dataset.csv')\n",
    "products_df = pd.read_csv('olist_products_dataset.csv')\n",
    "sellers_df = pd.read_csv('olist_sellers_dataset.csv')\n",
    "category_translation_df = pd.read_csv('product_category_name_translation.csv')"
   ]
  },
  {
   "cell_type": "code",
   "execution_count": 3,
   "metadata": {},
   "outputs": [
    {
     "name": "stdout",
     "output_type": "stream",
     "text": [
      "                            product_category_name  \\\n",
      "0                                    beleza_saude   \n",
      "1                          informatica_acessorios   \n",
      "2                                      automotivo   \n",
      "3                                 cama_mesa_banho   \n",
      "4                                moveis_decoracao   \n",
      "..                                            ...   \n",
      "68                                fraldas_higiene   \n",
      "69                  fashion_roupa_infanto_juvenil   \n",
      "70                             seguros_e_servicos   \n",
      "71                                       pc_gamer   \n",
      "72  portateis_cozinha_e_preparadores_de_alimentos   \n",
      "\n",
      "            product_category_name_english  \n",
      "0                           health_beauty  \n",
      "1                   computers_accessories  \n",
      "2                                    auto  \n",
      "3                          bed_bath_table  \n",
      "4                         furniture_decor  \n",
      "..                                    ...  \n",
      "68                    diapers_and_hygiene  \n",
      "69              fashion_childrens_clothes  \n",
      "70                  security_and_services  \n",
      "71                                pc_game  \n",
      "72  portable_kitchen_and_food_preparators  \n",
      "\n",
      "[73 rows x 2 columns]\n"
     ]
    }
   ],
   "source": [
    "new_rows = pd.DataFrame({\"product_category_name\": [\"pc_gamer\", \"portateis_cozinha_e_preparadores_de_alimentos\"], \"product_category_name_english\": [\"pc_game\", \"portable_kitchen_and_food_preparators\"]})\n",
    "category_translation_df = pd.concat([category_translation_df, new_rows], ignore_index=True)\n",
    "print(category_translation_df)"
   ]
  },
  {
   "cell_type": "code",
   "execution_count": 4,
   "metadata": {},
   "outputs": [
    {
     "name": "stdout",
     "output_type": "stream",
     "text": [
      "Dataset Name: customers_df\n",
      "<class 'pandas.core.frame.DataFrame'>\n",
      "RangeIndex: 99441 entries, 0 to 99440\n",
      "Data columns (total 5 columns):\n",
      " #   Column                    Non-Null Count  Dtype \n",
      "---  ------                    --------------  ----- \n",
      " 0   customer_id               99441 non-null  object\n",
      " 1   customer_unique_id        99441 non-null  object\n",
      " 2   customer_zip_code_prefix  99441 non-null  int64 \n",
      " 3   customer_city             99441 non-null  object\n",
      " 4   customer_state            99441 non-null  object\n",
      "dtypes: int64(1), object(4)\n",
      "memory usage: 3.8+ MB\n"
     ]
    },
    {
     "data": {
      "text/plain": [
       "None"
      ]
     },
     "metadata": {},
     "output_type": "display_data"
    },
    {
     "name": "stdout",
     "output_type": "stream",
     "text": [
      "Dataset Name: items_df\n",
      "<class 'pandas.core.frame.DataFrame'>\n",
      "RangeIndex: 112650 entries, 0 to 112649\n",
      "Data columns (total 7 columns):\n",
      " #   Column               Non-Null Count   Dtype  \n",
      "---  ------               --------------   -----  \n",
      " 0   order_id             112650 non-null  object \n",
      " 1   order_item_id        112650 non-null  int64  \n",
      " 2   product_id           112650 non-null  object \n",
      " 3   seller_id            112650 non-null  object \n",
      " 4   shipping_limit_date  112650 non-null  object \n",
      " 5   price                112650 non-null  float64\n",
      " 6   freight_value        112650 non-null  float64\n",
      "dtypes: float64(2), int64(1), object(4)\n",
      "memory usage: 6.0+ MB\n"
     ]
    },
    {
     "data": {
      "text/plain": [
       "None"
      ]
     },
     "metadata": {},
     "output_type": "display_data"
    },
    {
     "name": "stdout",
     "output_type": "stream",
     "text": [
      "Dataset Name: payments_df\n",
      "<class 'pandas.core.frame.DataFrame'>\n",
      "RangeIndex: 103886 entries, 0 to 103885\n",
      "Data columns (total 5 columns):\n",
      " #   Column                Non-Null Count   Dtype  \n",
      "---  ------                --------------   -----  \n",
      " 0   order_id              103886 non-null  object \n",
      " 1   payment_sequential    103886 non-null  int64  \n",
      " 2   payment_type          103886 non-null  object \n",
      " 3   payment_installments  103886 non-null  int64  \n",
      " 4   payment_value         103886 non-null  float64\n",
      "dtypes: float64(1), int64(2), object(2)\n",
      "memory usage: 4.0+ MB\n"
     ]
    },
    {
     "data": {
      "text/plain": [
       "None"
      ]
     },
     "metadata": {},
     "output_type": "display_data"
    },
    {
     "name": "stdout",
     "output_type": "stream",
     "text": [
      "Dataset Name: reviews_df\n",
      "<class 'pandas.core.frame.DataFrame'>\n",
      "RangeIndex: 99224 entries, 0 to 99223\n",
      "Data columns (total 7 columns):\n",
      " #   Column                   Non-Null Count  Dtype \n",
      "---  ------                   --------------  ----- \n",
      " 0   review_id                99224 non-null  object\n",
      " 1   order_id                 99224 non-null  object\n",
      " 2   review_score             99224 non-null  int64 \n",
      " 3   review_comment_title     11568 non-null  object\n",
      " 4   review_comment_message   40977 non-null  object\n",
      " 5   review_creation_date     99224 non-null  object\n",
      " 6   review_answer_timestamp  99224 non-null  object\n",
      "dtypes: int64(1), object(6)\n",
      "memory usage: 5.3+ MB\n"
     ]
    },
    {
     "data": {
      "text/plain": [
       "None"
      ]
     },
     "metadata": {},
     "output_type": "display_data"
    },
    {
     "name": "stdout",
     "output_type": "stream",
     "text": [
      "Dataset Name: orders_df\n",
      "<class 'pandas.core.frame.DataFrame'>\n",
      "RangeIndex: 99441 entries, 0 to 99440\n",
      "Data columns (total 8 columns):\n",
      " #   Column                         Non-Null Count  Dtype \n",
      "---  ------                         --------------  ----- \n",
      " 0   order_id                       99441 non-null  object\n",
      " 1   customer_id                    99441 non-null  object\n",
      " 2   order_status                   99441 non-null  object\n",
      " 3   order_purchase_timestamp       99441 non-null  object\n",
      " 4   order_approved_at              99281 non-null  object\n",
      " 5   order_delivered_carrier_date   97658 non-null  object\n",
      " 6   order_delivered_customer_date  96476 non-null  object\n",
      " 7   order_estimated_delivery_date  99441 non-null  object\n",
      "dtypes: object(8)\n",
      "memory usage: 6.1+ MB\n"
     ]
    },
    {
     "data": {
      "text/plain": [
       "None"
      ]
     },
     "metadata": {},
     "output_type": "display_data"
    },
    {
     "name": "stdout",
     "output_type": "stream",
     "text": [
      "Dataset Name: products_df\n",
      "<class 'pandas.core.frame.DataFrame'>\n",
      "RangeIndex: 32951 entries, 0 to 32950\n",
      "Data columns (total 9 columns):\n",
      " #   Column                      Non-Null Count  Dtype  \n",
      "---  ------                      --------------  -----  \n",
      " 0   product_id                  32951 non-null  object \n",
      " 1   product_category_name       32341 non-null  object \n",
      " 2   product_name_lenght         32341 non-null  float64\n",
      " 3   product_description_lenght  32341 non-null  float64\n",
      " 4   product_photos_qty          32341 non-null  float64\n",
      " 5   product_weight_g            32949 non-null  float64\n",
      " 6   product_length_cm           32949 non-null  float64\n",
      " 7   product_height_cm           32949 non-null  float64\n",
      " 8   product_width_cm            32949 non-null  float64\n",
      "dtypes: float64(7), object(2)\n",
      "memory usage: 2.3+ MB\n"
     ]
    },
    {
     "data": {
      "text/plain": [
       "None"
      ]
     },
     "metadata": {},
     "output_type": "display_data"
    },
    {
     "name": "stdout",
     "output_type": "stream",
     "text": [
      "Dataset Name: sellers_df\n",
      "<class 'pandas.core.frame.DataFrame'>\n",
      "RangeIndex: 3095 entries, 0 to 3094\n",
      "Data columns (total 4 columns):\n",
      " #   Column                  Non-Null Count  Dtype \n",
      "---  ------                  --------------  ----- \n",
      " 0   seller_id               3095 non-null   object\n",
      " 1   seller_zip_code_prefix  3095 non-null   int64 \n",
      " 2   seller_city             3095 non-null   object\n",
      " 3   seller_state            3095 non-null   object\n",
      "dtypes: int64(1), object(3)\n",
      "memory usage: 96.8+ KB\n"
     ]
    },
    {
     "data": {
      "text/plain": [
       "None"
      ]
     },
     "metadata": {},
     "output_type": "display_data"
    },
    {
     "name": "stdout",
     "output_type": "stream",
     "text": [
      "Dataset Name: category_translation_df\n",
      "<class 'pandas.core.frame.DataFrame'>\n",
      "RangeIndex: 73 entries, 0 to 72\n",
      "Data columns (total 2 columns):\n",
      " #   Column                         Non-Null Count  Dtype \n",
      "---  ------                         --------------  ----- \n",
      " 0   product_category_name          73 non-null     object\n",
      " 1   product_category_name_english  73 non-null     object\n",
      "dtypes: object(2)\n",
      "memory usage: 1.3+ KB\n"
     ]
    },
    {
     "data": {
      "text/plain": [
       "None"
      ]
     },
     "metadata": {},
     "output_type": "display_data"
    }
   ],
   "source": [
    "# Data information\n",
    "\n",
    "for df in ['customers_df', 'items_df', 'payments_df', 'reviews_df', 'orders_df', 'products_df', 'sellers_df', 'category_translation_df']:\n",
    "    print(f\"Dataset Name: {df}\")\n",
    "    display(eval(df).info())"
   ]
  },
  {
   "cell_type": "code",
   "execution_count": 5,
   "metadata": {},
   "outputs": [
    {
     "name": "stdout",
     "output_type": "stream",
     "text": [
      "<class 'pandas.core.frame.DataFrame'>\n",
      "RangeIndex: 119143 entries, 0 to 119142\n",
      "Data columns (total 40 columns):\n",
      " #   Column                         Non-Null Count   Dtype  \n",
      "---  ------                         --------------   -----  \n",
      " 0   order_id                       119143 non-null  object \n",
      " 1   customer_id                    119143 non-null  object \n",
      " 2   order_status                   119143 non-null  object \n",
      " 3   order_purchase_timestamp       119143 non-null  object \n",
      " 4   order_approved_at              118966 non-null  object \n",
      " 5   order_delivered_carrier_date   117057 non-null  object \n",
      " 6   order_delivered_customer_date  115722 non-null  object \n",
      " 7   order_estimated_delivery_date  119143 non-null  object \n",
      " 8   customer_unique_id             119143 non-null  object \n",
      " 9   customer_zip_code_prefix       119143 non-null  int64  \n",
      " 10  customer_city                  119143 non-null  object \n",
      " 11  customer_state                 119143 non-null  object \n",
      " 12  order_item_id                  118310 non-null  float64\n",
      " 13  product_id                     118310 non-null  object \n",
      " 14  seller_id                      118310 non-null  object \n",
      " 15  shipping_limit_date            118310 non-null  object \n",
      " 16  price                          118310 non-null  float64\n",
      " 17  freight_value                  118310 non-null  float64\n",
      " 18  payment_sequential             119140 non-null  float64\n",
      " 19  payment_type                   119140 non-null  object \n",
      " 20  payment_installments           119140 non-null  float64\n",
      " 21  payment_value                  119140 non-null  float64\n",
      " 22  review_id                      118146 non-null  object \n",
      " 23  review_score                   118146 non-null  float64\n",
      " 24  review_comment_title           13989 non-null   object \n",
      " 25  review_comment_message         50245 non-null   object \n",
      " 26  review_creation_date           118146 non-null  object \n",
      " 27  review_answer_timestamp        118146 non-null  object \n",
      " 28  seller_zip_code_prefix         118310 non-null  float64\n",
      " 29  seller_city                    118310 non-null  object \n",
      " 30  seller_state                   118310 non-null  object \n",
      " 31  product_category_name          116601 non-null  object \n",
      " 32  product_name_lenght            116601 non-null  float64\n",
      " 33  product_description_lenght     116601 non-null  float64\n",
      " 34  product_photos_qty             116601 non-null  float64\n",
      " 35  product_weight_g               118290 non-null  float64\n",
      " 36  product_length_cm              118290 non-null  float64\n",
      " 37  product_height_cm              118290 non-null  float64\n",
      " 38  product_width_cm               118290 non-null  float64\n",
      " 39  product_category_name_english  116601 non-null  object \n",
      "dtypes: float64(15), int64(1), object(24)\n",
      "memory usage: 36.4+ MB\n"
     ]
    }
   ],
   "source": [
    "# Merging dataset\n",
    "\n",
    "df = pd.merge(orders_df, customers_df, on='customer_id', how='outer', validate='m:m')\n",
    "df = pd.merge(df, items_df, on='order_id', how='left')\n",
    "df = pd.merge(df, payments_df, on='order_id', how='left')\n",
    "df = pd.merge(df, reviews_df, on='order_id', how='left')\n",
    "df = pd.merge(df, sellers_df, on='seller_id', how='left')\n",
    "df = pd.merge(df, products_df, on='product_id', how='left')\n",
    "df = pd.merge(df, category_translation_df, on='product_category_name', how='left')\n",
    "df.info()"
   ]
  },
  {
   "cell_type": "code",
   "execution_count": 6,
   "metadata": {},
   "outputs": [
    {
     "data": {
      "text/plain": [
       "np.int64(0)"
      ]
     },
     "execution_count": 6,
     "metadata": {},
     "output_type": "execute_result"
    }
   ],
   "source": [
    "df.duplicated().sum()"
   ]
  },
  {
   "cell_type": "code",
   "execution_count": 7,
   "metadata": {},
   "outputs": [
    {
     "data": {
      "text/plain": [
       "order_id                              0\n",
       "customer_id                           0\n",
       "order_status                          0\n",
       "order_purchase_timestamp              0\n",
       "order_approved_at                   177\n",
       "order_delivered_carrier_date       2086\n",
       "order_delivered_customer_date      3421\n",
       "order_estimated_delivery_date         0\n",
       "customer_unique_id                    0\n",
       "customer_zip_code_prefix              0\n",
       "customer_city                         0\n",
       "customer_state                        0\n",
       "order_item_id                       833\n",
       "product_id                          833\n",
       "seller_id                           833\n",
       "shipping_limit_date                 833\n",
       "price                               833\n",
       "freight_value                       833\n",
       "payment_sequential                    3\n",
       "payment_type                          3\n",
       "payment_installments                  3\n",
       "payment_value                         3\n",
       "review_id                           997\n",
       "review_score                        997\n",
       "review_comment_title             105154\n",
       "review_comment_message            68898\n",
       "review_creation_date                997\n",
       "review_answer_timestamp             997\n",
       "seller_zip_code_prefix              833\n",
       "seller_city                         833\n",
       "seller_state                        833\n",
       "product_category_name              2542\n",
       "product_name_lenght                2542\n",
       "product_description_lenght         2542\n",
       "product_photos_qty                 2542\n",
       "product_weight_g                    853\n",
       "product_length_cm                   853\n",
       "product_height_cm                   853\n",
       "product_width_cm                    853\n",
       "product_category_name_english      2542\n",
       "dtype: int64"
      ]
     },
     "execution_count": 7,
     "metadata": {},
     "output_type": "execute_result"
    }
   ],
   "source": [
    "df.isna().sum()"
   ]
  },
  {
   "cell_type": "code",
   "execution_count": 8,
   "metadata": {},
   "outputs": [
    {
     "name": "stderr",
     "output_type": "stream",
     "text": [
      "C:\\Users\\ADV\\AppData\\Local\\Temp\\ipykernel_13008\\2999001223.py:1: FutureWarning: A value is trying to be set on a copy of a DataFrame or Series through chained assignment using an inplace method.\n",
      "The behavior will change in pandas 3.0. This inplace method will never work because the intermediate object on which we are setting values always behaves as a copy.\n",
      "\n",
      "For example, when doing 'df[col].method(value, inplace=True)', try using 'df.method({col: value}, inplace=True)' or df[col] = df[col].method(value) instead, to perform the operation inplace on the original object.\n",
      "\n",
      "\n",
      "  df['product_category_name_english'].fillna('Missing', inplace = True)\n"
     ]
    }
   ],
   "source": [
    "df['product_category_name_english'].fillna('Missing', inplace = True)"
   ]
  },
  {
   "cell_type": "code",
   "execution_count": 9,
   "metadata": {},
   "outputs": [
    {
     "data": {
      "text/plain": [
       "order_id                              0\n",
       "customer_id                           0\n",
       "order_status                          0\n",
       "order_purchase_timestamp              0\n",
       "order_approved_at                   177\n",
       "order_delivered_carrier_date       2086\n",
       "order_delivered_customer_date      3421\n",
       "order_estimated_delivery_date         0\n",
       "customer_unique_id                    0\n",
       "customer_zip_code_prefix              0\n",
       "customer_city                         0\n",
       "customer_state                        0\n",
       "order_item_id                       833\n",
       "product_id                          833\n",
       "seller_id                           833\n",
       "shipping_limit_date                 833\n",
       "price                               833\n",
       "freight_value                       833\n",
       "payment_sequential                    3\n",
       "payment_type                          3\n",
       "payment_installments                  3\n",
       "payment_value                         3\n",
       "review_id                           997\n",
       "review_score                        997\n",
       "review_comment_title             105154\n",
       "review_comment_message            68898\n",
       "review_creation_date                997\n",
       "review_answer_timestamp             997\n",
       "seller_zip_code_prefix              833\n",
       "seller_city                         833\n",
       "seller_state                        833\n",
       "product_category_name              2542\n",
       "product_name_lenght                2542\n",
       "product_description_lenght         2542\n",
       "product_photos_qty                 2542\n",
       "product_weight_g                    853\n",
       "product_length_cm                   853\n",
       "product_height_cm                   853\n",
       "product_width_cm                    853\n",
       "product_category_name_english         0\n",
       "dtype: int64"
      ]
     },
     "execution_count": 9,
     "metadata": {},
     "output_type": "execute_result"
    }
   ],
   "source": [
    "df.isna().sum()"
   ]
  },
  {
   "cell_type": "code",
   "execution_count": 10,
   "metadata": {},
   "outputs": [
    {
     "data": {
      "text/plain": [
       "order_status\n",
       "delivered      861\n",
       "shipped         88\n",
       "canceled        20\n",
       "unavailable     14\n",
       "processing       6\n",
       "invoiced         6\n",
       "created          2\n",
       "Name: count, dtype: int64"
      ]
     },
     "execution_count": 10,
     "metadata": {},
     "output_type": "execute_result"
    }
   ],
   "source": [
    "x = df[df['review_score'].isna()]['order_status']\n",
    "x.value_counts()"
   ]
  },
  {
   "cell_type": "code",
   "execution_count": 11,
   "metadata": {},
   "outputs": [],
   "source": [
    "# remove columns yang tidak butuh\n",
    "df = df.drop(axis=1,\n",
    "columns=['product_name_lenght',\n",
    "'product_description_lenght',\n",
    "'product_photos_qty',\n",
    "'product_weight_g',\n",
    "'product_length_cm',\n",
    "'product_height_cm',\n",
    "'product_width_cm',\n",
    "'order_delivered_carrier_date',\n",
    "'order_delivered_customer_date',\n",
    "'order_estimated_delivery_date'\n",
    ",'shipping_limit_date','order_approved_at',\n",
    "'review_comment_title',\n",
    "'review_comment_message',\n",
    "'review_creation_date',\n",
    "'review_answer_timestamp',\n",
    "'product_category_name'])"
   ]
  },
  {
   "cell_type": "code",
   "execution_count": 12,
   "metadata": {},
   "outputs": [
    {
     "data": {
      "text/plain": [
       "order_id                           0\n",
       "customer_id                        0\n",
       "order_status                       0\n",
       "order_purchase_timestamp           0\n",
       "customer_unique_id                 0\n",
       "customer_zip_code_prefix           0\n",
       "customer_city                      0\n",
       "customer_state                     0\n",
       "order_item_id                    833\n",
       "product_id                       833\n",
       "seller_id                        833\n",
       "price                            833\n",
       "freight_value                    833\n",
       "payment_sequential                 3\n",
       "payment_type                       3\n",
       "payment_installments               3\n",
       "payment_value                      3\n",
       "review_id                        997\n",
       "review_score                     997\n",
       "seller_zip_code_prefix           833\n",
       "seller_city                      833\n",
       "seller_state                     833\n",
       "product_category_name_english      0\n",
       "dtype: int64"
      ]
     },
     "execution_count": 12,
     "metadata": {},
     "output_type": "execute_result"
    }
   ],
   "source": [
    "df.isna().sum()"
   ]
  },
  {
   "cell_type": "code",
   "execution_count": 13,
   "metadata": {},
   "outputs": [
    {
     "name": "stdout",
     "output_type": "stream",
     "text": [
      "order_id                         0\n",
      "customer_id                      0\n",
      "order_status                     0\n",
      "order_purchase_timestamp         0\n",
      "customer_unique_id               0\n",
      "customer_zip_code_prefix         0\n",
      "customer_city                    0\n",
      "customer_state                   0\n",
      "order_item_id                    0\n",
      "product_id                       0\n",
      "seller_id                        0\n",
      "price                            0\n",
      "freight_value                    0\n",
      "payment_sequential               0\n",
      "payment_type                     0\n",
      "payment_installments             0\n",
      "payment_value                    0\n",
      "review_id                        0\n",
      "review_score                     0\n",
      "seller_zip_code_prefix           0\n",
      "seller_city                      0\n",
      "seller_state                     0\n",
      "product_category_name_english    0\n",
      "dtype: int64\n"
     ]
    }
   ],
   "source": [
    "df = df.dropna()  \n",
    "print(df.isna().sum()) "
   ]
  },
  {
   "cell_type": "code",
   "execution_count": 14,
   "metadata": {},
   "outputs": [
    {
     "name": "stdout",
     "output_type": "stream",
     "text": [
      "<class 'pandas.core.frame.DataFrame'>\n",
      "Index: 117329 entries, 0 to 119141\n",
      "Data columns (total 23 columns):\n",
      " #   Column                         Non-Null Count   Dtype  \n",
      "---  ------                         --------------   -----  \n",
      " 0   order_id                       117329 non-null  object \n",
      " 1   customer_id                    117329 non-null  object \n",
      " 2   order_status                   117329 non-null  object \n",
      " 3   order_purchase_timestamp       117329 non-null  object \n",
      " 4   customer_unique_id             117329 non-null  object \n",
      " 5   customer_zip_code_prefix       117329 non-null  int64  \n",
      " 6   customer_city                  117329 non-null  object \n",
      " 7   customer_state                 117329 non-null  object \n",
      " 8   order_item_id                  117329 non-null  float64\n",
      " 9   product_id                     117329 non-null  object \n",
      " 10  seller_id                      117329 non-null  object \n",
      " 11  price                          117329 non-null  float64\n",
      " 12  freight_value                  117329 non-null  float64\n",
      " 13  payment_sequential             117329 non-null  float64\n",
      " 14  payment_type                   117329 non-null  object \n",
      " 15  payment_installments           117329 non-null  float64\n",
      " 16  payment_value                  117329 non-null  float64\n",
      " 17  review_id                      117329 non-null  object \n",
      " 18  review_score                   117329 non-null  float64\n",
      " 19  seller_zip_code_prefix         117329 non-null  float64\n",
      " 20  seller_city                    117329 non-null  object \n",
      " 21  seller_state                   117329 non-null  object \n",
      " 22  product_category_name_english  117329 non-null  object \n",
      "dtypes: float64(8), int64(1), object(14)\n",
      "memory usage: 21.5+ MB\n"
     ]
    }
   ],
   "source": [
    "df.info()"
   ]
  },
  {
   "cell_type": "code",
   "execution_count": 20,
   "metadata": {},
   "outputs": [],
   "source": [
    "# Change to Datetime\n",
    "df['order_purchase_timestamp']=pd.to_datetime(df['order_purchase_timestamp'])"
   ]
  },
  {
   "cell_type": "code",
   "execution_count": 21,
   "metadata": {},
   "outputs": [],
   "source": [
    "df['order_purchase_date'] = pd.to_datetime(df['order_purchase_timestamp'])\n",
    "df['order_purchase_date'] = df['order_purchase_date'].dt.strftime('%Y-%m-%d-%H')\n",
    "df['order_purchase_date'] = pd.to_datetime(df['order_purchase_date'])"
   ]
  },
  {
   "cell_type": "code",
   "execution_count": 22,
   "metadata": {},
   "outputs": [],
   "source": [
    "df['year'] = df['order_purchase_date'].dt.year\n",
    "df['month'] = df['order_purchase_date'].dt.strftime('%b')\n",
    "df['day'] = df['order_purchase_date'].dt.day\n",
    "df['hour'] = df['order_purchase_date'].dt.hour"
   ]
  },
  {
   "cell_type": "code",
   "execution_count": 23,
   "metadata": {},
   "outputs": [
    {
     "name": "stdout",
     "output_type": "stream",
     "text": [
      "<class 'pandas.core.frame.DataFrame'>\n",
      "Index: 117329 entries, 0 to 119141\n",
      "Data columns (total 28 columns):\n",
      " #   Column                         Non-Null Count   Dtype         \n",
      "---  ------                         --------------   -----         \n",
      " 0   order_id                       117329 non-null  object        \n",
      " 1   customer_id                    117329 non-null  object        \n",
      " 2   order_status                   117329 non-null  object        \n",
      " 3   order_purchase_timestamp       117329 non-null  datetime64[ns]\n",
      " 4   customer_unique_id             117329 non-null  object        \n",
      " 5   customer_zip_code_prefix       117329 non-null  int64         \n",
      " 6   customer_city                  117329 non-null  object        \n",
      " 7   customer_state                 117329 non-null  object        \n",
      " 8   order_item_id                  117329 non-null  float64       \n",
      " 9   product_id                     117329 non-null  object        \n",
      " 10  seller_id                      117329 non-null  object        \n",
      " 11  price                          117329 non-null  float64       \n",
      " 12  freight_value                  117329 non-null  float64       \n",
      " 13  payment_sequential             117329 non-null  float64       \n",
      " 14  payment_type                   117329 non-null  object        \n",
      " 15  payment_installments           117329 non-null  float64       \n",
      " 16  payment_value                  117329 non-null  float64       \n",
      " 17  review_id                      117329 non-null  object        \n",
      " 18  review_score                   117329 non-null  float64       \n",
      " 19  seller_zip_code_prefix         117329 non-null  float64       \n",
      " 20  seller_city                    117329 non-null  object        \n",
      " 21  seller_state                   117329 non-null  object        \n",
      " 22  product_category_name_english  117329 non-null  object        \n",
      " 23  order_purchase_date            117329 non-null  datetime64[ns]\n",
      " 24  year                           117329 non-null  int32         \n",
      " 25  month                          117329 non-null  object        \n",
      " 26  day                            117329 non-null  int32         \n",
      " 27  hour                           117329 non-null  int32         \n",
      "dtypes: datetime64[ns](2), float64(8), int32(3), int64(1), object(14)\n",
      "memory usage: 24.6+ MB\n"
     ]
    }
   ],
   "source": [
    "df.info()"
   ]
  },
  {
   "cell_type": "code",
   "execution_count": 19,
   "metadata": {},
   "outputs": [
    {
     "data": {
      "text/html": [
       "<div>\n",
       "<style scoped>\n",
       "    .dataframe tbody tr th:only-of-type {\n",
       "        vertical-align: middle;\n",
       "    }\n",
       "\n",
       "    .dataframe tbody tr th {\n",
       "        vertical-align: top;\n",
       "    }\n",
       "\n",
       "    .dataframe thead th {\n",
       "        text-align: right;\n",
       "    }\n",
       "</style>\n",
       "<table border=\"1\" class=\"dataframe\">\n",
       "  <thead>\n",
       "    <tr style=\"text-align: right;\">\n",
       "      <th></th>\n",
       "      <th>order_id</th>\n",
       "      <th>customer_id</th>\n",
       "      <th>order_status</th>\n",
       "      <th>order_purchase_timestamp</th>\n",
       "      <th>customer_unique_id</th>\n",
       "      <th>customer_zip_code_prefix</th>\n",
       "      <th>customer_city</th>\n",
       "      <th>customer_state</th>\n",
       "      <th>order_item_id</th>\n",
       "      <th>product_id</th>\n",
       "      <th>...</th>\n",
       "      <th>review_score</th>\n",
       "      <th>seller_zip_code_prefix</th>\n",
       "      <th>seller_city</th>\n",
       "      <th>seller_state</th>\n",
       "      <th>product_category_name_english</th>\n",
       "      <th>order_purchase_date</th>\n",
       "      <th>year</th>\n",
       "      <th>month</th>\n",
       "      <th>day</th>\n",
       "      <th>hour</th>\n",
       "    </tr>\n",
       "  </thead>\n",
       "  <tbody>\n",
       "    <tr>\n",
       "      <th>0</th>\n",
       "      <td>5f79b5b0931d63f1a42989eb65b9da6e</td>\n",
       "      <td>00012a2ce6f8dcda20d059ce98491703</td>\n",
       "      <td>delivered</td>\n",
       "      <td>2017-11-14 16:08:26</td>\n",
       "      <td>248ffe10d632bebe4f7267f1f44844c9</td>\n",
       "      <td>6273</td>\n",
       "      <td>osasco</td>\n",
       "      <td>SP</td>\n",
       "      <td>1.0</td>\n",
       "      <td>64315bd8c0c47303179dd2e25b579d00</td>\n",
       "      <td>...</td>\n",
       "      <td>1.0</td>\n",
       "      <td>18500.0</td>\n",
       "      <td>laranjal paulista</td>\n",
       "      <td>SP</td>\n",
       "      <td>toys</td>\n",
       "      <td>2017-11-14 16:00:00</td>\n",
       "      <td>2017</td>\n",
       "      <td>Nov</td>\n",
       "      <td>14</td>\n",
       "      <td>16</td>\n",
       "    </tr>\n",
       "    <tr>\n",
       "      <th>1</th>\n",
       "      <td>a44895d095d7e0702b6a162fa2dbeced</td>\n",
       "      <td>000161a058600d5901f007fab4c27140</td>\n",
       "      <td>delivered</td>\n",
       "      <td>2017-07-16 09:40:32</td>\n",
       "      <td>b0015e09bb4b6e47c52844fab5fb6638</td>\n",
       "      <td>35550</td>\n",
       "      <td>itapecerica</td>\n",
       "      <td>MG</td>\n",
       "      <td>1.0</td>\n",
       "      <td>84183944dc7cddca87a5d384452c1d3c</td>\n",
       "      <td>...</td>\n",
       "      <td>4.0</td>\n",
       "      <td>30494.0</td>\n",
       "      <td>belo horizonte</td>\n",
       "      <td>MG</td>\n",
       "      <td>health_beauty</td>\n",
       "      <td>2017-07-16 09:00:00</td>\n",
       "      <td>2017</td>\n",
       "      <td>Jul</td>\n",
       "      <td>16</td>\n",
       "      <td>9</td>\n",
       "    </tr>\n",
       "    <tr>\n",
       "      <th>2</th>\n",
       "      <td>316a104623542e4d75189bb372bc5f8d</td>\n",
       "      <td>0001fd6190edaaf884bcaf3d49edf079</td>\n",
       "      <td>delivered</td>\n",
       "      <td>2017-02-28 11:06:43</td>\n",
       "      <td>94b11d37cd61cb2994a194d11f89682b</td>\n",
       "      <td>29830</td>\n",
       "      <td>nova venecia</td>\n",
       "      <td>ES</td>\n",
       "      <td>1.0</td>\n",
       "      <td>9df2b21ec85378d71df4404712e17478</td>\n",
       "      <td>...</td>\n",
       "      <td>5.0</td>\n",
       "      <td>22240.0</td>\n",
       "      <td>rio de janeiro</td>\n",
       "      <td>RJ</td>\n",
       "      <td>baby</td>\n",
       "      <td>2017-02-28 11:00:00</td>\n",
       "      <td>2017</td>\n",
       "      <td>Feb</td>\n",
       "      <td>28</td>\n",
       "      <td>11</td>\n",
       "    </tr>\n",
       "    <tr>\n",
       "      <th>3</th>\n",
       "      <td>5825ce2e88d5346438686b0bba99e5ee</td>\n",
       "      <td>0002414f95344307404f0ace7a26f1d5</td>\n",
       "      <td>delivered</td>\n",
       "      <td>2017-08-16 13:09:20</td>\n",
       "      <td>4893ad4ea28b2c5b3ddf4e82e79db9e6</td>\n",
       "      <td>39664</td>\n",
       "      <td>mendonca</td>\n",
       "      <td>MG</td>\n",
       "      <td>1.0</td>\n",
       "      <td>af3ec22cce878225aae6d9eb6c7a78eb</td>\n",
       "      <td>...</td>\n",
       "      <td>5.0</td>\n",
       "      <td>88115.0</td>\n",
       "      <td>sao jose</td>\n",
       "      <td>SC</td>\n",
       "      <td>cool_stuff</td>\n",
       "      <td>2017-08-16 13:00:00</td>\n",
       "      <td>2017</td>\n",
       "      <td>Aug</td>\n",
       "      <td>16</td>\n",
       "      <td>13</td>\n",
       "    </tr>\n",
       "    <tr>\n",
       "      <th>4</th>\n",
       "      <td>0ab7fb08086d4af9141453c91878ed7a</td>\n",
       "      <td>000379cdec625522490c315e70c7a9fb</td>\n",
       "      <td>delivered</td>\n",
       "      <td>2018-04-02 13:42:17</td>\n",
       "      <td>0b83f73b19c2019e182fd552c048a22c</td>\n",
       "      <td>4841</td>\n",
       "      <td>sao paulo</td>\n",
       "      <td>SP</td>\n",
       "      <td>1.0</td>\n",
       "      <td>868b3136c5b206f91b8208fbfdf2cb7c</td>\n",
       "      <td>...</td>\n",
       "      <td>4.0</td>\n",
       "      <td>14940.0</td>\n",
       "      <td>ibitinga</td>\n",
       "      <td>SP</td>\n",
       "      <td>bed_bath_table</td>\n",
       "      <td>2018-04-02 13:00:00</td>\n",
       "      <td>2018</td>\n",
       "      <td>Apr</td>\n",
       "      <td>2</td>\n",
       "      <td>13</td>\n",
       "    </tr>\n",
       "  </tbody>\n",
       "</table>\n",
       "<p>5 rows × 28 columns</p>\n",
       "</div>"
      ],
      "text/plain": [
       "                           order_id                       customer_id  \\\n",
       "0  5f79b5b0931d63f1a42989eb65b9da6e  00012a2ce6f8dcda20d059ce98491703   \n",
       "1  a44895d095d7e0702b6a162fa2dbeced  000161a058600d5901f007fab4c27140   \n",
       "2  316a104623542e4d75189bb372bc5f8d  0001fd6190edaaf884bcaf3d49edf079   \n",
       "3  5825ce2e88d5346438686b0bba99e5ee  0002414f95344307404f0ace7a26f1d5   \n",
       "4  0ab7fb08086d4af9141453c91878ed7a  000379cdec625522490c315e70c7a9fb   \n",
       "\n",
       "  order_status order_purchase_timestamp                customer_unique_id  \\\n",
       "0    delivered      2017-11-14 16:08:26  248ffe10d632bebe4f7267f1f44844c9   \n",
       "1    delivered      2017-07-16 09:40:32  b0015e09bb4b6e47c52844fab5fb6638   \n",
       "2    delivered      2017-02-28 11:06:43  94b11d37cd61cb2994a194d11f89682b   \n",
       "3    delivered      2017-08-16 13:09:20  4893ad4ea28b2c5b3ddf4e82e79db9e6   \n",
       "4    delivered      2018-04-02 13:42:17  0b83f73b19c2019e182fd552c048a22c   \n",
       "\n",
       "   customer_zip_code_prefix customer_city customer_state  order_item_id  \\\n",
       "0                      6273        osasco             SP            1.0   \n",
       "1                     35550   itapecerica             MG            1.0   \n",
       "2                     29830  nova venecia             ES            1.0   \n",
       "3                     39664      mendonca             MG            1.0   \n",
       "4                      4841     sao paulo             SP            1.0   \n",
       "\n",
       "                         product_id  ... review_score  seller_zip_code_prefix  \\\n",
       "0  64315bd8c0c47303179dd2e25b579d00  ...          1.0                 18500.0   \n",
       "1  84183944dc7cddca87a5d384452c1d3c  ...          4.0                 30494.0   \n",
       "2  9df2b21ec85378d71df4404712e17478  ...          5.0                 22240.0   \n",
       "3  af3ec22cce878225aae6d9eb6c7a78eb  ...          5.0                 88115.0   \n",
       "4  868b3136c5b206f91b8208fbfdf2cb7c  ...          4.0                 14940.0   \n",
       "\n",
       "         seller_city  seller_state product_category_name_english  \\\n",
       "0  laranjal paulista            SP                          toys   \n",
       "1     belo horizonte            MG                 health_beauty   \n",
       "2     rio de janeiro            RJ                          baby   \n",
       "3           sao jose            SC                    cool_stuff   \n",
       "4           ibitinga            SP                bed_bath_table   \n",
       "\n",
       "   order_purchase_date  year month  day  hour  \n",
       "0  2017-11-14 16:00:00  2017   Nov   14    16  \n",
       "1  2017-07-16 09:00:00  2017   Jul   16     9  \n",
       "2  2017-02-28 11:00:00  2017   Feb   28    11  \n",
       "3  2017-08-16 13:00:00  2017   Aug   16    13  \n",
       "4  2018-04-02 13:00:00  2018   Apr    2    13  \n",
       "\n",
       "[5 rows x 28 columns]"
      ]
     },
     "execution_count": 19,
     "metadata": {},
     "output_type": "execute_result"
    }
   ],
   "source": [
    "df.head()"
   ]
  },
  {
   "cell_type": "markdown",
   "metadata": {},
   "source": [
    "# 2. Data Understanding"
   ]
  },
  {
   "cell_type": "markdown",
   "metadata": {},
   "source": [
    "The target variable is the customer review score, which ranges from 1 to 5. For binary classification, we will transform this into:\n",
    "* Positive review: review_score ≥ 4\n",
    "\n",
    "* Negative review: review_score < 4"
   ]
  }
 ],
 "metadata": {
  "kernelspec": {
   "display_name": "Python 3",
   "language": "python",
   "name": "python3"
  },
  "language_info": {
   "codemirror_mode": {
    "name": "ipython",
    "version": 3
   },
   "file_extension": ".py",
   "mimetype": "text/x-python",
   "name": "python",
   "nbconvert_exporter": "python",
   "pygments_lexer": "ipython3",
   "version": "3.12.8"
  }
 },
 "nbformat": 4,
 "nbformat_minor": 2
}
