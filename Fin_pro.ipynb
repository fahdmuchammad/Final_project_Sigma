{
 "cells": [
  {
   "cell_type": "markdown",
   "metadata": {},
   "source": [
    "# Brazillian Ecommerce, Olist Dataset"
   ]
  },
  {
   "cell_type": "markdown",
   "metadata": {},
   "source": [
    "## Context\n",
    "This is a Brazilian ecommerce public dataset of orders made at Olist Store.  The dataset has information of 100k orders from 2016 to 2018 made at multiple marketplaces in Brazil. Its features allow viewing an order from multiple dimensions: from order status, price, payment and freight performance to customer location, product attributes and finally reviews written by customers. They also released a geolocation dataset that relates Brazilian zip codes to lat/lng coordinates.\n",
    "\n",
    "\n",
    "This is real commercial data, it has been anonymised, and references to the companies and partners in the review text have been replaced with the names of Game of Thrones great houses.\n",
    "\n",
    "Olist connects small businesses from all over Brazil to channels without hassle and with a single contract. Those merchants are able to sell their products through the Olist Store and ship them directly to the customers using Olist logistics partners. See more on our website: www.olist.com\n",
    "\n",
    "After a customer purchases the product from Olist Store a seller gets notified to fulfill that order. Once the customer receives the product, or the estimated delivery date is due, the customer gets a satisfaction survey by email where he can give a note for the purchase experience and write down some comments.\n",
    "\n",
    "*Notes*\n",
    "\n",
    "1. An order might have multiple items.\n",
    "2. Each item might be fulfilled by a distinct seller.\n",
    "3. All text identifying stores and partners where replaced by the names of Game of Thrones great houses.\n",
    "\n",
    "## Features\n",
    "\n",
    "The dataset contains a variety of features from different aspects of the transactions within the marketplace, including customer information, product details, payment methods, and review scores. Here’s a list of the key columns available in the dataset:\n",
    "\n",
    "* `customer_id`: Unique identifier for each customer.\n",
    "* `customer_unique_id`: A secondary identifier for customers that allows you to identify customers who made repurchases at the store.\n",
    "* `customer_zip_code_prefix`: Zip code prefix for the customer’s location.\n",
    "* `customer_city`: City where the customer is located.\n",
    "* `customer_state`: State where the customer is located.\n",
    "* `order_id`: Unique identifier for each order placed by the customer.\n",
    "* `order_status`: The current status of the order (e.g., shipped, delivered, cancelled).\n",
    "* `order_purchase_timestamp`: Timestamp when the order was placed.\n",
    "* `order_approved_at`: Timestamp when the order was approved.\n",
    "* `order_delivered_carrier_date`: Date when the order was delivered to the carrier.\n",
    "* `order_delivered_customer_date`: Date when the order was delivered to the customer.\n",
    "* `order_estimated_delivery_date`: Estimated date for the order to be delivered to the customer.\n",
    "* `review_id`: Unique identifier for each review provided by the customer.\n",
    "* `review_score`: Rating score (1 to 5) provided by the customer for the product.\n",
    "* `review_comment_title`: Title of the product review.\n",
    "* `review_comment_message`: Content or message provided in the product review.\n",
    "* `review_creation_date`: Date when the review was created.\n",
    "* `review_answer_timestamp`: Timestamp when the review was answered (if applicable).\n",
    "* `order_item_id`: Unique identifier for the item in the order.\n",
    "* `product_id`: Unique identifier for the product ordered.\n",
    "* `seller_id`: Unique identifier for the seller.\n",
    "* `shipping_limit_date`: The last date for shipping the order.\n",
    "* `price`: Price of the product in the order.\n",
    "* `freight_value`: Shipping cost for the order.\n",
    "* `payment_sequential`: Sequential number for installment payments in the order.\n",
    "* `payment_type`: Type of payment used by the customer (e.g., credit card, boleto).\n",
    "* `payment_installments`: Number of installments used in the payment.\n",
    "* `payment_value`: Total value of the payment made by the customer.\n",
    "* `product_category_name`: Category of the product purchased.\n",
    "* `product_name_length`: Length of the product name (in characters).\n",
    "* `product_description_length`: Length of the product description (in characters).\n",
    "* `product_photos_qty`: Quantity of photos available for the product.\n",
    "* `product_weight_g`: Weight of the product in grams.\n",
    "* `product_length_cm`: Length of the product in centimeters.\n",
    "* `product_height_cm`: Height of the product in centimeters.\n",
    "* `product_width_cm`: Width of the product in centimeters.\n",
    "* `seller_zip_code_prefix`: Zip code prefix of the seller's location.\n",
    "* `seller_city`: City where the seller is located.\n",
    "* `seller_state`: State where the seller is located.\n",
    "* `geolocation_zip_code_prefix`: Zip code prefix for the seller's geolocation.\n",
    "* `geolocation_lat`: Latitude of the seller's location.\n",
    "* `geolocation_lng`: Longitude of the seller's location.\n",
    "* `geolocation_city`: City where the seller's geolocation is located.\n",
    "* `geolocation_state`: State where the seller's geolocation is located.\n",
    "* `product_category_name_english`: English translation of the product category name.***\n",
    "\n",
    "\n",
    "## Acknowledgments\n",
    "Thanks to Olist for releasing this dataset.\n",
    "\n",
    "## Contents\n",
    "1. Business Problem Understanding\n",
    "2. Data Understanding\n",
    "3. Data Preprocessing\n",
    "4. Modeling\n",
    "5. Conclusion\n",
    "6. Recommendation"
   ]
  },
  {
   "cell_type": "markdown",
   "metadata": {},
   "source": [
    "# 1. Business Problem Understanding\n",
    "\n",
    "**Context**\n",
    "\n",
    "This dataset contains transactional data from the Olist marketplace, an e-commerce platform in Brazil. It includes a variety of features related to customer behavior, product information, order details, payment methods, shipping costs, and review scores. The dataset provides valuable insights into online purchases, customer satisfaction, and product performance, making it an excellent resource for understanding e-commerce dynamics.\n",
    "\n",
    "**Background**\n",
    "\n",
    "Olist, a leading e-commerce platform in Brazil, connects small and medium-sized businesses (SMBs) to a vast network of customers across the country. Despite its rapid growth, Olist faced challenges in understanding the diverse needs of its customers, efficiently allocating resources, and delivering personalized marketing experiences. To address these challenges, Olist embarked on a transformative journey to leverage customer segmentation, aiming to better understand customer needs, improve targeting, and optimize resource allocation.\n",
    "\n",
    "- Better Understanding of Customer Needs -> penempatan penyebaran produk (gudang/seller)\n",
    "- Improved Targeting and Efficient Resource Allocation -> promosi tepat sasaran\n",
    "- Personalized Marketing -> crm (customer relationship marketing)\n",
    "\n",
    "**Problem Statement**\n",
    "\n",
    "Customer satisfaction is a critical factor in the success of any e-commerce business. Unsatisfied customers are less likely to return, leading to reduced customer retention and revenue. Predicting whether a customer will leave a positive or negative review based on their order details and interactions can help businesses proactively address issues, improve customer experience, and increase retention.\n",
    "=> Bagaimana perilaku customer di tiap segmentasi untuk membuat marketing yang lebih terpersonalisasi dan tepat sasaran.\n",
    "\n",
    "**Goals**\n",
    "\n",
    "The goal of this project is to predict customer satisfaction, as measured by the review_score, using features such as order details, product characteristics, payment methods, and customer demographics. By analyzing these features, we aim to:\n",
    "\n",
    "* Predict whether a customer will leave a positive (review_score ≥ 4) or negative (review_score < 4) review.\n",
    "\n",
    "* Identify key factors that influence customer satisfaction.\n",
    "\n",
    "* Provide actionable insights to improve customer experience and reduce negative reviews.\n",
    "\n",
    "**Stakeholders**\n",
    "\n",
    "* Business Owners and Managers: They want to improve customer satisfaction and retention to drive long-term revenue growth.\n",
    "\n",
    "* Customer Support Teams: They need insights to address customer complaints and improve service quality.\n",
    "\n",
    "* Product Managers: They want to understand how product characteristics (e.g., category, photos, description) impact customer satisfaction.\n",
    "\n",
    "* Marketing Teams: They aim to target dissatisfied customers with personalized offers or campaigns to improve their experience.\n",
    "\n",
    "* Data Science Team: Responsible for developing and deploying the predictive model to classify customer satisfaction.\n",
    "\n",
    "**Analytical Approach**\n",
    "\n",
    "We will begin by exploring the dataset to understand the relationship between customer satisfaction (review_score) and features such as order details, product characteristics, payment methods, and customer demographics. Next, we will preprocess the data by handling missing values, encoding categorical variables, and creating new features (e.g., delivery time, order processing time). Once the data is cleaned, we will build a binary classification model to predict whether a customer will leave a positive or negative review. The model will help businesses identify dissatisfied customers and take proactive measures to improve their experience.\n",
    "\n",
    "**Business Metrics**\n",
    "\n",
    "The success of this project will be measured by the following metrics:\n",
    "\n",
    "* Customer Satisfaction Rate: Percentage of customers who leave positive reviews (review_score ≥ 4).\n",
    "\n",
    "* Negative Review Reduction Rate: Reduction in the percentage of negative reviews over time.\n",
    "\n",
    "* Customer Retention Rate: Percentage of customers who make repeat purchases after receiving targeted interventions.\n",
    "\n",
    "* Model Accuracy: The ability of the model to correctly classify positive and negative reviews.\n",
    "\n",
    "**Metric Evaluation**\n",
    "\n",
    "The evaluation metrics for this project include:\n",
    "\n",
    "* Accuracy: Measures the percentage of correct predictions in the classification model.\n",
    "\n",
    "* Precision and Recall: Precision measures the percentage of correctly predicted positive reviews, while recall measures the percentage of actual positive reviews correctly identified.\n",
    "\n",
    "* F1-Score: Harmonic mean of precision and recall, useful for imbalanced datasets.\n",
    "\n",
    "* AUC-ROC (Area Under the Curve - Receiver Operating Characteristics): Evaluates the model's ability to distinguish between positive and negative reviews.\n",
    "\n",
    "By focusing on these goals and metrics, this project aims to provide actionable insights that can help businesses improve customer satisfaction, reduce negative reviews, and increase customer retention.\n"
   ]
  },
  {
   "cell_type": "code",
   "execution_count": 2,
   "metadata": {},
   "outputs": [],
   "source": [
    "import pandas as pd"
   ]
  },
  {
   "cell_type": "code",
   "execution_count": 8,
   "metadata": {},
   "outputs": [],
   "source": [
    "# Load dataset\n",
    "\n",
    "customers_df = pd.read_csv('olist_customers_dataset.csv')\n",
    "items_df = pd.read_csv('olist_order_items_dataset.csv')\n",
    "payments_df = pd.read_csv('olist_order_payments_dataset.csv')\n",
    "reviews_df = pd.read_csv('olist_order_reviews_dataset.csv')\n",
    "orders_df = pd.read_csv('olist_orders_dataset.csv')\n",
    "products_df = pd.read_csv('olist_products_dataset.csv')\n",
    "sellers_df = pd.read_csv('olist_sellers_dataset.csv')\n",
    "category_translation_df = pd.read_csv('product_category_name_translation.csv')"
   ]
  },
  {
   "cell_type": "code",
   "execution_count": 6,
   "metadata": {},
   "outputs": [
    {
     "name": "stdout",
     "output_type": "stream",
     "text": [
      "                            product_category_name  \\\n",
      "0                                    beleza_saude   \n",
      "1                          informatica_acessorios   \n",
      "2                                      automotivo   \n",
      "3                                 cama_mesa_banho   \n",
      "4                                moveis_decoracao   \n",
      "..                                            ...   \n",
      "68                                fraldas_higiene   \n",
      "69                  fashion_roupa_infanto_juvenil   \n",
      "70                             seguros_e_servicos   \n",
      "71                                       pc_gamer   \n",
      "72  portateis_cozinha_e_preparadores_de_alimentos   \n",
      "\n",
      "            product_category_name_english  \n",
      "0                           health_beauty  \n",
      "1                   computers_accessories  \n",
      "2                                    auto  \n",
      "3                          bed_bath_table  \n",
      "4                         furniture_decor  \n",
      "..                                    ...  \n",
      "68                    diapers_and_hygiene  \n",
      "69              fashion_childrens_clothes  \n",
      "70                  security_and_services  \n",
      "71                                pc_game  \n",
      "72  portable_kitchen_and_food_preparators  \n",
      "\n",
      "[73 rows x 2 columns]\n"
     ]
    }
   ],
   "source": [
    "new_rows = pd.DataFrame({\"product_category_name\": [\"pc_gamer\", \"portateis_cozinha_e_preparadores_de_alimentos\"], \"product_category_name_english\": [\"pc_game\", \"portable_kitchen_and_food_preparators\"]})\n",
    "category_translation_df = pd.concat([category_translation_df, new_rows], ignore_index=True)\n",
    "print(category_translation_df)"
   ]
  },
  {
   "cell_type": "code",
   "execution_count": null,
   "metadata": {},
   "outputs": [
    {
     "name": "stdout",
     "output_type": "stream",
     "text": [
      "Dataset Name: customers_df\n",
      "<class 'pandas.core.frame.DataFrame'>\n",
      "RangeIndex: 99441 entries, 0 to 99440\n",
      "Data columns (total 5 columns):\n",
      " #   Column                    Non-Null Count  Dtype \n",
      "---  ------                    --------------  ----- \n",
      " 0   customer_id               99441 non-null  object\n",
      " 1   customer_unique_id        99441 non-null  object\n",
      " 2   customer_zip_code_prefix  99441 non-null  int64 \n",
      " 3   customer_city             99441 non-null  object\n",
      " 4   customer_state            99441 non-null  object\n",
      "dtypes: int64(1), object(4)\n",
      "memory usage: 3.8+ MB\n"
     ]
    },
    {
     "data": {
      "text/plain": [
       "None"
      ]
     },
     "metadata": {},
     "output_type": "display_data"
    },
    {
     "name": "stdout",
     "output_type": "stream",
     "text": [
      "Dataset Name: items_df\n",
      "<class 'pandas.core.frame.DataFrame'>\n",
      "RangeIndex: 112650 entries, 0 to 112649\n",
      "Data columns (total 7 columns):\n",
      " #   Column               Non-Null Count   Dtype  \n",
      "---  ------               --------------   -----  \n",
      " 0   order_id             112650 non-null  object \n",
      " 1   order_item_id        112650 non-null  int64  \n",
      " 2   product_id           112650 non-null  object \n",
      " 3   seller_id            112650 non-null  object \n",
      " 4   shipping_limit_date  112650 non-null  object \n",
      " 5   price                112650 non-null  float64\n",
      " 6   freight_value        112650 non-null  float64\n",
      "dtypes: float64(2), int64(1), object(4)\n",
      "memory usage: 6.0+ MB\n"
     ]
    },
    {
     "data": {
      "text/plain": [
       "None"
      ]
     },
     "metadata": {},
     "output_type": "display_data"
    },
    {
     "name": "stdout",
     "output_type": "stream",
     "text": [
      "Dataset Name: payments_df\n",
      "<class 'pandas.core.frame.DataFrame'>\n",
      "RangeIndex: 103886 entries, 0 to 103885\n",
      "Data columns (total 5 columns):\n",
      " #   Column                Non-Null Count   Dtype  \n",
      "---  ------                --------------   -----  \n",
      " 0   order_id              103886 non-null  object \n",
      " 1   payment_sequential    103886 non-null  int64  \n",
      " 2   payment_type          103886 non-null  object \n",
      " 3   payment_installments  103886 non-null  int64  \n",
      " 4   payment_value         103886 non-null  float64\n",
      "dtypes: float64(1), int64(2), object(2)\n",
      "memory usage: 4.0+ MB\n"
     ]
    },
    {
     "data": {
      "text/plain": [
       "None"
      ]
     },
     "metadata": {},
     "output_type": "display_data"
    },
    {
     "name": "stdout",
     "output_type": "stream",
     "text": [
      "Dataset Name: reviews_df\n",
      "<class 'pandas.core.frame.DataFrame'>\n",
      "RangeIndex: 99224 entries, 0 to 99223\n",
      "Data columns (total 7 columns):\n",
      " #   Column                   Non-Null Count  Dtype \n",
      "---  ------                   --------------  ----- \n",
      " 0   review_id                99224 non-null  object\n",
      " 1   order_id                 99224 non-null  object\n",
      " 2   review_score             99224 non-null  int64 \n",
      " 3   review_comment_title     11568 non-null  object\n",
      " 4   review_comment_message   40977 non-null  object\n",
      " 5   review_creation_date     99224 non-null  object\n",
      " 6   review_answer_timestamp  99224 non-null  object\n",
      "dtypes: int64(1), object(6)\n",
      "memory usage: 5.3+ MB\n"
     ]
    },
    {
     "data": {
      "text/plain": [
       "None"
      ]
     },
     "metadata": {},
     "output_type": "display_data"
    },
    {
     "name": "stdout",
     "output_type": "stream",
     "text": [
      "Dataset Name: orders_df\n",
      "<class 'pandas.core.frame.DataFrame'>\n",
      "RangeIndex: 99441 entries, 0 to 99440\n",
      "Data columns (total 8 columns):\n",
      " #   Column                         Non-Null Count  Dtype \n",
      "---  ------                         --------------  ----- \n",
      " 0   order_id                       99441 non-null  object\n",
      " 1   customer_id                    99441 non-null  object\n",
      " 2   order_status                   99441 non-null  object\n",
      " 3   order_purchase_timestamp       99441 non-null  object\n",
      " 4   order_approved_at              99281 non-null  object\n",
      " 5   order_delivered_carrier_date   97658 non-null  object\n",
      " 6   order_delivered_customer_date  96476 non-null  object\n",
      " 7   order_estimated_delivery_date  99441 non-null  object\n",
      "dtypes: object(8)\n",
      "memory usage: 6.1+ MB\n"
     ]
    },
    {
     "data": {
      "text/plain": [
       "None"
      ]
     },
     "metadata": {},
     "output_type": "display_data"
    },
    {
     "name": "stdout",
     "output_type": "stream",
     "text": [
      "Dataset Name: products_df\n",
      "<class 'pandas.core.frame.DataFrame'>\n",
      "RangeIndex: 32951 entries, 0 to 32950\n",
      "Data columns (total 9 columns):\n",
      " #   Column                      Non-Null Count  Dtype  \n",
      "---  ------                      --------------  -----  \n",
      " 0   product_id                  32951 non-null  object \n",
      " 1   product_category_name       32341 non-null  object \n",
      " 2   product_name_lenght         32341 non-null  float64\n",
      " 3   product_description_lenght  32341 non-null  float64\n",
      " 4   product_photos_qty          32341 non-null  float64\n",
      " 5   product_weight_g            32949 non-null  float64\n",
      " 6   product_length_cm           32949 non-null  float64\n",
      " 7   product_height_cm           32949 non-null  float64\n",
      " 8   product_width_cm            32949 non-null  float64\n",
      "dtypes: float64(7), object(2)\n",
      "memory usage: 2.3+ MB\n"
     ]
    },
    {
     "data": {
      "text/plain": [
       "None"
      ]
     },
     "metadata": {},
     "output_type": "display_data"
    },
    {
     "name": "stdout",
     "output_type": "stream",
     "text": [
      "Dataset Name: sellers_df\n",
      "<class 'pandas.core.frame.DataFrame'>\n",
      "RangeIndex: 3095 entries, 0 to 3094\n",
      "Data columns (total 4 columns):\n",
      " #   Column                  Non-Null Count  Dtype \n",
      "---  ------                  --------------  ----- \n",
      " 0   seller_id               3095 non-null   object\n",
      " 1   seller_zip_code_prefix  3095 non-null   int64 \n",
      " 2   seller_city             3095 non-null   object\n",
      " 3   seller_state            3095 non-null   object\n",
      "dtypes: int64(1), object(3)\n",
      "memory usage: 96.8+ KB\n"
     ]
    },
    {
     "data": {
      "text/plain": [
       "None"
      ]
     },
     "metadata": {},
     "output_type": "display_data"
    },
    {
     "name": "stdout",
     "output_type": "stream",
     "text": [
      "Dataset Name: category_translation_df\n",
      "<class 'pandas.core.frame.DataFrame'>\n",
      "RangeIndex: 71 entries, 0 to 70\n",
      "Data columns (total 2 columns):\n",
      " #   Column                         Non-Null Count  Dtype \n",
      "---  ------                         --------------  ----- \n",
      " 0   product_category_name          71 non-null     object\n",
      " 1   product_category_name_english  71 non-null     object\n",
      "dtypes: object(2)\n",
      "memory usage: 1.2+ KB\n"
     ]
    },
    {
     "data": {
      "text/plain": [
       "None"
      ]
     },
     "metadata": {},
     "output_type": "display_data"
    }
   ],
   "source": [
    "# Data information\n",
    "\n",
    "for df in ['customers_df', 'items_df', 'payments_df', 'reviews_df', 'orders_df', 'products_df', 'sellers_df', 'category_translation_df']:\n",
    "    print(f\"Dataset Name: {df}\")\n",
    "    display(eval(df).info())"
   ]
  },
  {
   "cell_type": "code",
   "execution_count": 23,
   "metadata": {},
   "outputs": [
    {
     "name": "stdout",
     "output_type": "stream",
     "text": [
      "<class 'pandas.core.frame.DataFrame'>\n",
      "RangeIndex: 116576 entries, 0 to 116575\n",
      "Data columns (total 40 columns):\n",
      " #   Column                         Non-Null Count   Dtype  \n",
      "---  ------                         --------------   -----  \n",
      " 0   order_id                       116576 non-null  object \n",
      " 1   customer_id                    116576 non-null  object \n",
      " 2   order_status                   116576 non-null  object \n",
      " 3   order_purchase_timestamp       116576 non-null  object \n",
      " 4   order_approved_at              116562 non-null  object \n",
      " 5   order_delivered_carrier_date   115363 non-null  object \n",
      " 6   order_delivered_customer_date  114061 non-null  object \n",
      " 7   order_estimated_delivery_date  116576 non-null  object \n",
      " 8   customer_unique_id             116576 non-null  object \n",
      " 9   customer_zip_code_prefix       116576 non-null  int64  \n",
      " 10  customer_city                  116576 non-null  object \n",
      " 11  customer_state                 116576 non-null  object \n",
      " 12  order_item_id                  116576 non-null  float64\n",
      " 13  product_id                     116576 non-null  object \n",
      " 14  seller_id                      116576 non-null  object \n",
      " 15  shipping_limit_date            116576 non-null  object \n",
      " 16  price                          116576 non-null  float64\n",
      " 17  freight_value                  116576 non-null  float64\n",
      " 18  payment_sequential             116573 non-null  float64\n",
      " 19  payment_type                   116573 non-null  object \n",
      " 20  payment_installments           116573 non-null  float64\n",
      " 21  payment_value                  116573 non-null  float64\n",
      " 22  review_id                      115612 non-null  object \n",
      " 23  review_score                   115612 non-null  float64\n",
      " 24  review_comment_title           13801 non-null   object \n",
      " 25  review_comment_message         48909 non-null   object \n",
      " 26  review_creation_date           115612 non-null  object \n",
      " 27  review_answer_timestamp        115612 non-null  object \n",
      " 28  seller_zip_code_prefix         116576 non-null  float64\n",
      " 29  seller_city                    116576 non-null  object \n",
      " 30  seller_state                   116576 non-null  object \n",
      " 31  product_category_name          116576 non-null  object \n",
      " 32  product_name_lenght            116576 non-null  float64\n",
      " 33  product_description_lenght     116576 non-null  float64\n",
      " 34  product_photos_qty             116576 non-null  float64\n",
      " 35  product_weight_g               116575 non-null  float64\n",
      " 36  product_length_cm              116575 non-null  float64\n",
      " 37  product_height_cm              116575 non-null  float64\n",
      " 38  product_width_cm               116575 non-null  float64\n",
      " 39  product_category_name_english  116576 non-null  object \n",
      "dtypes: float64(15), int64(1), object(24)\n",
      "memory usage: 35.6+ MB\n"
     ]
    }
   ],
   "source": [
    "# Merging dataset\n",
    "\n",
    "df = pd.merge(orders_df, customers_df, on='customer_id', how='outer', validate='m:m')\n",
    "df = pd.merge(df, items_df, on='order_id', how='left')\n",
    "df = pd.merge(df, payments_df, on='order_id', how='left')\n",
    "df = pd.merge(df, reviews_df, on='order_id', how='left')\n",
    "df = pd.merge(df, sellers_df, on='seller_id', how='left')\n",
    "df = pd.merge(df, products_df, on='product_id', how='left')\n",
    "df = pd.merge(df, category_translation_df, on='product_category_name')\n",
    "df.info()"
   ]
  },
  {
   "cell_type": "code",
   "execution_count": 24,
   "metadata": {},
   "outputs": [
    {
     "data": {
      "text/plain": [
       "order_id                              0\n",
       "customer_id                           0\n",
       "order_status                          0\n",
       "order_purchase_timestamp              0\n",
       "order_approved_at                    14\n",
       "order_delivered_carrier_date       1213\n",
       "order_delivered_customer_date      2515\n",
       "order_estimated_delivery_date         0\n",
       "customer_unique_id                    0\n",
       "customer_zip_code_prefix              0\n",
       "customer_city                         0\n",
       "customer_state                        0\n",
       "order_item_id                         0\n",
       "product_id                            0\n",
       "seller_id                             0\n",
       "shipping_limit_date                   0\n",
       "price                                 0\n",
       "freight_value                         0\n",
       "payment_sequential                    3\n",
       "payment_type                          3\n",
       "payment_installments                  3\n",
       "payment_value                         3\n",
       "review_id                           964\n",
       "review_score                        964\n",
       "review_comment_title             102775\n",
       "review_comment_message            67667\n",
       "review_creation_date                964\n",
       "review_answer_timestamp             964\n",
       "seller_zip_code_prefix                0\n",
       "seller_city                           0\n",
       "seller_state                          0\n",
       "product_category_name                 0\n",
       "product_name_lenght                   0\n",
       "product_description_lenght            0\n",
       "product_photos_qty                    0\n",
       "product_weight_g                      1\n",
       "product_length_cm                     1\n",
       "product_height_cm                     1\n",
       "product_width_cm                      1\n",
       "product_category_name_english         0\n",
       "dtype: int64"
      ]
     },
     "execution_count": 24,
     "metadata": {},
     "output_type": "execute_result"
    }
   ],
   "source": [
    "df.isna().sum()"
   ]
  },
  {
   "cell_type": "code",
   "execution_count": 22,
   "metadata": {},
   "outputs": [
    {
     "data": {
      "text/plain": [
       "order_status\n",
       "delivered     849\n",
       "shipped        87\n",
       "canceled       17\n",
       "invoiced        6\n",
       "processing      5\n",
       "Name: count, dtype: int64"
      ]
     },
     "execution_count": 22,
     "metadata": {},
     "output_type": "execute_result"
    }
   ],
   "source": [
    "x = df[df['review_score'].isna()]['order_status']\n",
    "x.value_counts()"
   ]
  },
  {
   "cell_type": "code",
   "execution_count": 25,
   "metadata": {},
   "outputs": [
    {
     "data": {
      "text/plain": [
       "0"
      ]
     },
     "execution_count": 25,
     "metadata": {},
     "output_type": "execute_result"
    }
   ],
   "source": [
    "df.duplicated().sum()"
   ]
  },
  {
   "cell_type": "markdown",
   "metadata": {},
   "source": [
    "# 2. Data Understanding"
   ]
  },
  {
   "cell_type": "markdown",
   "metadata": {},
   "source": [
    "The target variable is the customer review score, which ranges from 1 to 5. For binary classification, we will transform this into:\n",
    "* Positive review: review_score ≥ 4\n",
    "\n",
    "* Negative review: review_score < 4"
   ]
  }
 ],
 "metadata": {
  "kernelspec": {
   "display_name": "base",
   "language": "python",
   "name": "python3"
  },
  "language_info": {
   "codemirror_mode": {
    "name": "ipython",
    "version": 3
   },
   "file_extension": ".py",
   "mimetype": "text/x-python",
   "name": "python",
   "nbconvert_exporter": "python",
   "pygments_lexer": "ipython3",
   "version": "3.12.3"
  }
 },
 "nbformat": 4,
 "nbformat_minor": 2
}
